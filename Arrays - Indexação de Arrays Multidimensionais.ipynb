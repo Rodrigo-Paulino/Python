{
 "cells": [
  {
   "cell_type": "markdown",
   "metadata": {},
   "source": [
    "### Tópicos: Indexação de Arrays Multidimensionais, Operações com Arrays Multidimensionais, Índice de Array, Atribuindo Valor, Trabalhando com Intervalos, Números Centrais, Números Intervalo, Números Última Coluna, Números Última Linha, Concatenando Arrays Multidimensionais"
   ]
  },
  {
   "cell_type": "markdown",
   "metadata": {},
   "source": [
    "# Indexação de Arrays Multidimensionais"
   ]
  },
  {
   "cell_type": "code",
   "execution_count": 1,
   "metadata": {},
   "outputs": [],
   "source": [
    "import numpy as np"
   ]
  },
  {
   "cell_type": "markdown",
   "metadata": {},
   "source": [
    "## Operações com Arrays Multidimensionais"
   ]
  },
  {
   "attachments": {
    "matriz01.PNG": {
     "image/png": "[encoded data removed]"
    }
   },
   "cell_type": "markdown",
   "metadata": {},
   "source": [
    "### Obs.: A notação é sempre LINHA - COLUNA\n",
    "![matriz01.PNG](attachment:matriz01.PNG)"
   ]
  },
  {
   "cell_type": "code",
   "execution_count": 2,
   "metadata": {
    "scrolled": true
   },
   "outputs": [
    {
     "name": "stdout",
     "output_type": "stream",
     "text": [
      "[[ 1  2  3  4]\n",
      " [ 5  6  7  8]\n",
      " [10 20 30 40]\n",
      " [50 60 70 80]]\n"
     ]
    }
   ],
   "source": [
    "A =[[1,2,3,4],[5,6,7,8],[10,20,30,40],[50,60,70,80]]\n",
    "\n",
    "array =np.array(A)\n",
    "\n",
    "print(array)"
   ]
  },
  {
   "cell_type": "code",
   "execution_count": 3,
   "metadata": {},
   "outputs": [
    {
     "name": "stdout",
     "output_type": "stream",
     "text": [
      "[1 2 3 4]\n"
     ]
    }
   ],
   "source": [
    "#Primeira linha\n",
    "print(array[0])"
   ]
  },
  {
   "cell_type": "code",
   "execution_count": 4,
   "metadata": {},
   "outputs": [
    {
     "name": "stdout",
     "output_type": "stream",
     "text": [
      "[10 20 30 40]\n"
     ]
    }
   ],
   "source": [
    "#Linha de índice 2\n",
    "print(array[2])"
   ]
  },
  {
   "cell_type": "code",
   "execution_count": 6,
   "metadata": {},
   "outputs": [
    {
     "name": "stdout",
     "output_type": "stream",
     "text": [
      "4\n"
     ]
    }
   ],
   "source": [
    "#Primeira linha e última coluna\n",
    "print(array[0,-1]) #Primeira linha, última coluna"
   ]
  },
  {
   "cell_type": "code",
   "execution_count": 10,
   "metadata": {},
   "outputs": [
    {
     "name": "stdout",
     "output_type": "stream",
     "text": [
      "[[ 0  2  3  4]\n",
      " [ 5  6  7  8]\n",
      " [10 20 30 40]\n",
      " [50 60 70 80]]\n"
     ]
    }
   ],
   "source": [
    "#Atribuindo um valor a uma posição da matriz\n",
    "\n",
    "array[0,0] = 0\n",
    "\n",
    "print(array)"
   ]
  },
  {
   "cell_type": "markdown",
   "metadata": {},
   "source": [
    "## Trabalhando com intervalos"
   ]
  },
  {
   "cell_type": "code",
   "execution_count": 12,
   "metadata": {},
   "outputs": [
    {
     "name": "stdout",
     "output_type": "stream",
     "text": [
      "[[ 6  7]\n",
      " [20 30]]\n"
     ]
    }
   ],
   "source": [
    "#Pegando os numeros centrais\n",
    "\n",
    "print(array[1:3,1:3])"
   ]
  },
  {
   "cell_type": "code",
   "execution_count": 13,
   "metadata": {},
   "outputs": [
    {
     "name": "stdout",
     "output_type": "stream",
     "text": [
      "[[ 7  8]\n",
      " [30 40]]\n"
     ]
    }
   ],
   "source": [
    "#Pegando o intervalo 7,8,30,40\n",
    "\n",
    "print(array[1:3,2:4])"
   ]
  },
  {
   "cell_type": "code",
   "execution_count": 14,
   "metadata": {},
   "outputs": [
    {
     "name": "stdout",
     "output_type": "stream",
     "text": [
      "[ 4  8 40 80]\n"
     ]
    }
   ],
   "source": [
    "#Trazendo somente a última coluna\n",
    "\n",
    "print(array[:,-1])"
   ]
  },
  {
   "cell_type": "code",
   "execution_count": 15,
   "metadata": {},
   "outputs": [
    {
     "name": "stdout",
     "output_type": "stream",
     "text": [
      "[50 60 70 80]\n"
     ]
    }
   ],
   "source": [
    "#Trazendo somente a última linha\n",
    "\n",
    "print(array[-1,:])"
   ]
  },
  {
   "cell_type": "code",
   "execution_count": 16,
   "metadata": {},
   "outputs": [
    {
     "name": "stdout",
     "output_type": "stream",
     "text": [
      "[[1 2]\n",
      " [3 4]\n",
      " [5 6]]\n"
     ]
    }
   ],
   "source": [
    "#Concatenando Arrays Multidimensionais\n",
    "\n",
    "A = np.array([[1, 2], [3, 4]])\n",
    "B = np.array([[5, 6]])\n",
    "\n",
    "C = np.concatenate((A, B))\n",
    "\n",
    "print(C)"
   ]
  },
  {
   "cell_type": "code",
   "execution_count": null,
   "metadata": {
    "collapsed": true
   },
   "outputs": [],
   "source": []
  }
 ],
 "metadata": {
  "kernelspec": {
   "display_name": "Python 3",
   "language": "python",
   "name": "python3"
  },
  "language_info": {
   "codemirror_mode": {
    "name": "ipython",
    "version": 3
   },
   "file_extension": ".py",
   "mimetype": "text/x-python",
   "name": "python",
   "nbconvert_exporter": "python",
   "pygments_lexer": "ipython3",
   "version": "3.7.0"
  }
 },
 "nbformat": 4,
 "nbformat_minor": 2
}
