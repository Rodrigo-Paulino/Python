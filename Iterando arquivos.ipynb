{
 "cells": [
  {
   "cell_type": "markdown",
   "metadata": {},
   "source": [
    "###  Tópicos: Iterando Arquivos, Renomeando Arquivos e Diretórios, Comando 'listdir' (lista os arquivos do diretório), Módulo GLOB (criar listas de arquivos usando caracteres curinga), Iterando a Lista."
   ]
  },
  {
   "cell_type": "markdown",
   "metadata": {},
   "source": [
    "\n",
    "# Iterando Arquivos"
   ]
  },
  {
   "cell_type": "code",
   "execution_count": 1,
   "metadata": {},
   "outputs": [],
   "source": [
    "import os\n",
    "\n",
    "os.chdir('c:\\\\. raw') # entra no diretório"
   ]
  },
  {
   "cell_type": "code",
   "execution_count": 2,
   "metadata": {},
   "outputs": [],
   "source": [
    "with open ('c:\\\\. raw\\\\teste.txt','w') as arq:\n",
    "    arq.write('Utilizando WITH!!') "
   ]
  },
  {
   "cell_type": "code",
   "execution_count": 3,
   "metadata": {},
   "outputs": [],
   "source": [
    "#Renomeando arquivos e diretórios\n",
    "\n",
    "os.rename('teste.txt', 'teste.csv') #Renomeando"
   ]
  },
  {
   "cell_type": "code",
   "execution_count": 4,
   "metadata": {},
   "outputs": [
    {
     "data": {
      "text/plain": [
       "['dados', 'Iteracao', 'teste.csv']"
      ]
     },
     "execution_count": 4,
     "metadata": {},
     "output_type": "execute_result"
    }
   ],
   "source": [
    "os.listdir() # Lista os arquivos no diretório"
   ]
  },
  {
   "cell_type": "code",
   "execution_count": 5,
   "metadata": {},
   "outputs": [],
   "source": [
    "arquivo = 'teste.csv' # Joga o arquivo dentro da variável"
   ]
  },
  {
   "cell_type": "code",
   "execution_count": 6,
   "metadata": {},
   "outputs": [
    {
     "name": "stdout",
     "output_type": "stream",
     "text": [
      "('teste', '.csv')\n",
      "teste\n"
     ]
    }
   ],
   "source": [
    "nomeSplit = os.path.splitext(arquivo)\n",
    "print(nomeSplit)\n",
    "\n",
    "nome = os.path.splitext(arquivo)[0]\n",
    "print(nome)"
   ]
  },
  {
   "cell_type": "code",
   "execution_count": 7,
   "metadata": {},
   "outputs": [],
   "source": [
    "novonome = nome + '.txt'"
   ]
  },
  {
   "cell_type": "code",
   "execution_count": 8,
   "metadata": {},
   "outputs": [
    {
     "name": "stdout",
     "output_type": "stream",
     "text": [
      "teste.csv\n",
      "teste.txt\n"
     ]
    }
   ],
   "source": [
    "print(arquivo)\n",
    "print(novonome)\n",
    "\n",
    "os.rename(arquivo,novonome)"
   ]
  },
  {
   "cell_type": "code",
   "execution_count": 9,
   "metadata": {},
   "outputs": [
    {
     "data": {
      "text/plain": [
       "['dados', 'Iteracao', 'teste.txt']"
      ]
     },
     "execution_count": 9,
     "metadata": {},
     "output_type": "execute_result"
    }
   ],
   "source": [
    "os.listdir()"
   ]
  },
  {
   "cell_type": "markdown",
   "metadata": {},
   "source": [
    "# E caso eu tenha muitos arquivos?"
   ]
  },
  {
   "cell_type": "code",
   "execution_count": 10,
   "metadata": {},
   "outputs": [],
   "source": [
    "#O módulo GLOB fornece uma função para criar listas de arquivos a partir de buscas em diretórios usando caracteres curinga\n",
    "\n",
    "import glob\n",
    "import os"
   ]
  },
  {
   "cell_type": "code",
   "execution_count": 19,
   "metadata": {},
   "outputs": [],
   "source": [
    "os.chdir('c:\\\\. RAW\\\\iteracao') # Entrando no Diretório"
   ]
  },
  {
   "cell_type": "code",
   "execution_count": 20,
   "metadata": {},
   "outputs": [
    {
     "data": {
      "text/plain": [
       "['Arquivo01.docx',\n",
       " 'Arquivo02.xlsx',\n",
       " 'Arquivo03.pptx',\n",
       " 'Arquivo04.rar',\n",
       " 'Avaliacoes.csv',\n",
       " 'desktop.ini',\n",
       " 'Diretoria.csv',\n",
       " 'Faturamento.csv',\n",
       " 'Funcionarios.csv',\n",
       " 'Recursos Humanos.csv',\n",
       " 'Vendedores.csv']"
      ]
     },
     "execution_count": 20,
     "metadata": {},
     "output_type": "execute_result"
    }
   ],
   "source": [
    "os.listdir() # Arquivos no diretório"
   ]
  },
  {
   "cell_type": "code",
   "execution_count": 21,
   "metadata": {},
   "outputs": [],
   "source": [
    "#Utilizando o glob\n",
    "#O módulo GLOB fornece uma função para criar listas de arquivos a partir de buscas em diretórios usando caracteres curinga\n",
    "\n",
    "txtlist = glob.glob('*.csv') "
   ]
  },
  {
   "cell_type": "code",
   "execution_count": 22,
   "metadata": {},
   "outputs": [
    {
     "name": "stdout",
     "output_type": "stream",
     "text": [
      "['Avaliacoes.csv', 'Diretoria.csv', 'Faturamento.csv', 'Funcionarios.csv', 'Recursos Humanos.csv', 'Vendedores.csv']\n"
     ]
    }
   ],
   "source": [
    "print(txtlist)"
   ]
  },
  {
   "cell_type": "code",
   "execution_count": 23,
   "metadata": {},
   "outputs": [
    {
     "name": "stdout",
     "output_type": "stream",
     "text": [
      "Avaliacoes\n",
      "Avaliacoes.txt\n",
      "Diretoria\n",
      "Diretoria.txt\n",
      "Faturamento\n",
      "Faturamento.txt\n",
      "Funcionarios\n",
      "Funcionarios.txt\n",
      "Recursos Humanos\n",
      "Recursos Humanos.txt\n",
      "Vendedores\n",
      "Vendedores.txt\n"
     ]
    }
   ],
   "source": [
    "#Iterando a lista\n",
    "\n",
    "for arquivo in txtlist:\n",
    "    nome = os.path.splitext(arquivo)[0]\n",
    "    print(nome) #arquivo sem terminação\n",
    "    \n",
    "    novoNome = nome + '.txt'\n",
    "    print(novoNome) #arquivo com nova terminação\n",
    "    os.rename(arquivo,novoNome)\n"
   ]
  },
  {
   "cell_type": "code",
   "execution_count": 24,
   "metadata": {},
   "outputs": [
    {
     "data": {
      "text/plain": [
       "['Arquivo01.docx',\n",
       " 'Arquivo02.xlsx',\n",
       " 'Arquivo03.pptx',\n",
       " 'Arquivo04.rar',\n",
       " 'Avaliacoes.txt',\n",
       " 'desktop.ini',\n",
       " 'Diretoria.txt',\n",
       " 'Faturamento.txt',\n",
       " 'Funcionarios.txt',\n",
       " 'Recursos Humanos.txt',\n",
       " 'Vendedores.txt']"
      ]
     },
     "execution_count": 24,
     "metadata": {},
     "output_type": "execute_result"
    }
   ],
   "source": [
    "os.listdir()"
   ]
  },
  {
   "cell_type": "code",
   "execution_count": null,
   "metadata": {
    "collapsed": true
   },
   "outputs": [],
   "source": []
  }
 ],
 "metadata": {
  "kernelspec": {
   "display_name": "Python 3",
   "language": "python",
   "name": "python3"
  },
  "language_info": {
   "codemirror_mode": {
    "name": "ipython",
    "version": 3
   },
   "file_extension": ".py",
   "mimetype": "text/x-python",
   "name": "python",
   "nbconvert_exporter": "python",
   "pygments_lexer": "ipython3",
   "version": "3.7.0"
  }
 },
 "nbformat": 4,
 "nbformat_minor": 2
}
