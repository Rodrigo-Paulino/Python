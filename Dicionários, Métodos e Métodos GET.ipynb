{
 "cells": [
  {
   "cell_type": "markdown",
   "metadata": {},
   "source": [
    "### Tópicos: Dicionários, Chave Valor, Indexando por Chaves, Criando Dicionários Vazios, Dicionários Aninhados, Usando Dicionário com Índice, Métodos (ITEM -> KEY -> VALUES), Atribuições Múltiplas CHAVE / VALOR, Dicionário de Inventário, Método GET (Muito Importante), Referência vs Copia de Dicionários, Alterando o Nome das Chaves "
   ]
  },
  {
   "cell_type": "markdown",
   "metadata": {},
   "source": [
    "# Dicionários"
   ]
  },
  {
   "cell_type": "markdown",
   "metadata": {},
   "source": [
    "A diferença entre listas e dicionários é que embora mutáveis, as listas se organizam por índices posicionais, enquanto os dicionários organizam-se por padrão CHAVE VALOR. Lembrar-se do MAP REDUCE!\n"
   ]
  },
  {
   "cell_type": "code",
   "execution_count": 5,
   "metadata": {},
   "outputs": [
    {
     "name": "stdout",
     "output_type": "stream",
     "text": [
      "{'categoria': 'guerreiro', 'força': 110, 'experiencia': 50, 'vida': 100, 'cura': 70}\n",
      "{'categoria': 'mago', 'força': 50, 'experiencia': 120, 'vida': 60, 'cura': 100}\n",
      "{'categoria': 'elfo', 'força': 70, 'experiencia': 80, 'vida': 120, 'cura': 110}\n"
     ]
    }
   ],
   "source": [
    "# Tuplas usam parentese ()\n",
    "# Listas usam colchetes []\n",
    "# Dicionários usam chaves {}\n",
    "\n",
    "personagem1 = {'categoria':'guerreiro', 'força':110, 'experiencia':50, 'vida':100, 'cura':70}\n",
    "personagem2 = {'categoria':'mago', 'força':50, 'experiencia':120, 'vida':60, 'cura':100}\n",
    "personagem3 = {'categoria':'elfo', 'força':70, 'experiencia':80, 'vida':120, 'cura':110}\n",
    "\n",
    "print(personagem1)\n",
    "print(personagem2)\n",
    "print(personagem3)\n"
   ]
  },
  {
   "cell_type": "code",
   "execution_count": 6,
   "metadata": {},
   "outputs": [
    {
     "name": "stdout",
     "output_type": "stream",
     "text": [
      "Força do Personagem 1: 110\n",
      "Experiência do Personagem 3: 80\n"
     ]
    }
   ],
   "source": [
    "# Indexando por Chaves:\n",
    "\n",
    "print('Força do Personagem 1:',personagem1['força'])\n",
    "print('Experiência do Personagem 3:',personagem3['experiencia'])"
   ]
  },
  {
   "cell_type": "code",
   "execution_count": 7,
   "metadata": {},
   "outputs": [
    {
     "name": "stdout",
     "output_type": "stream",
     "text": [
      "{}\n"
     ]
    }
   ],
   "source": [
    "# Criando dicionários vazios\n",
    "\n",
    "personagem4 = {}\n",
    "print(personagem4)"
   ]
  },
  {
   "cell_type": "code",
   "execution_count": 8,
   "metadata": {},
   "outputs": [
    {
     "name": "stdout",
     "output_type": "stream",
     "text": [
      "Personagem 1 {'categoria': 'guerreiro', 'força': 110, 'experiencia': 50, 'vida': 100, 'cura': 70}\n",
      "Personagem 2 {'categoria': 'mago', 'força': 50, 'experiencia': 120, 'vida': 60, 'cura': 100}\n",
      "Personagem 3 {'categoria': 'elfo', 'força': 70, 'experiencia': 80, 'vida': 120, 'cura': 110}\n",
      "Personagem 4 {'categoria': 'guardião', 'força': 75, 'experiencia': 73, 'vida': 124, 'cura': 100}\n"
     ]
    }
   ],
   "source": [
    "# Adicionando elemento ao dicionário\n",
    "\n",
    "personagem4['categoria'] = 'guardião'\n",
    "personagem4['força'] = 75\n",
    "personagem4['experiencia'] = 73\n",
    "personagem4['vida'] = 124\n",
    "personagem4['cura'] = 100\n",
    "\n",
    "print('Personagem 1', personagem1)\n",
    "print('Personagem 2', personagem2)\n",
    "print('Personagem 3', personagem3)\n",
    "print('Personagem 4', personagem4)"
   ]
  },
  {
   "cell_type": "code",
   "execution_count": 9,
   "metadata": {},
   "outputs": [
    {
     "name": "stdout",
     "output_type": "stream",
     "text": [
      "{'categoria': 'guerreiro', 'força': 110, 'experiencia': 50, 'vida': 100, 'cura': 70, 'armas': ['escudo', 'espada']}\n"
     ]
    }
   ],
   "source": [
    "# Dicionários Aninhados\n",
    "# Pode ser adicionado o elemento lista ao dicionário.\n",
    "\n",
    "personagem1['armas'] = ['escudo','espada']\n",
    "print(personagem1)\n",
    "\n"
   ]
  },
  {
   "cell_type": "code",
   "execution_count": 10,
   "metadata": {},
   "outputs": [
    {
     "name": "stdout",
     "output_type": "stream",
     "text": [
      "{'categoria': 'guerreiro', 'força': 110, 'experiencia': 50, 'vida': 100, 'cura': 70, 'armas': ['escudo', 'espada', 'lança']}\n"
     ]
    }
   ],
   "source": [
    "# Adicionando elemento na lista do dicionário.\n",
    "\n",
    "personagem1['armas'].append('lança')\n",
    "print(personagem1)"
   ]
  },
  {
   "cell_type": "code",
   "execution_count": 11,
   "metadata": {},
   "outputs": [
    {
     "name": "stdout",
     "output_type": "stream",
     "text": [
      "escudo\n",
      "espada\n",
      "lança\n"
     ]
    },
    {
     "data": {
      "text/plain": [
       "dict"
      ]
     },
     "execution_count": 11,
     "metadata": {},
     "output_type": "execute_result"
    }
   ],
   "source": [
    "# Usando Índice\n",
    "print(personagem1['armas'][0])\n",
    "print(personagem1['armas'][1])\n",
    "print(personagem1['armas'][2])\n",
    "\n",
    "# Verificação do Tipo\n",
    "type(personagem1)"
   ]
  },
  {
   "cell_type": "markdown",
   "metadata": {},
   "source": [
    "# Métodos"
   ]
  },
  {
   "cell_type": "code",
   "execution_count": 12,
   "metadata": {},
   "outputs": [
    {
     "name": "stdout",
     "output_type": "stream",
     "text": [
      "[('categoria', 'guerreiro'), ('força', 110), ('experiencia', 50), ('vida', 100), ('cura', 70), ('armas', ['escudo', 'espada', 'lança'])]\n"
     ]
    }
   ],
   "source": [
    "# Hierarquia de Impressão é: ITEM -> KEY -> VALUES\n",
    "# Imprimir o ITEM, ou seja, o par Chave Valor\n",
    "print(list(personagem1.items()))\n"
   ]
  },
  {
   "cell_type": "code",
   "execution_count": 13,
   "metadata": {},
   "outputs": [
    {
     "name": "stdout",
     "output_type": "stream",
     "text": [
      "Todos os Itens: dict_items([('categoria', 'guardião'), ('força', 75), ('experiencia', 73), ('vida', 124), ('cura', 100)])\n",
      "Somente Chaveis: dict_keys(['categoria', 'força', 'experiencia', 'vida', 'cura'])\n",
      "Somente Valores: dict_values(['guardião', 75, 73, 124, 100])\n"
     ]
    }
   ],
   "source": [
    "# Separado os itens da lista 1\n",
    "\n",
    "print('Todos os Itens:',personagem4.items())\n",
    "print('Somente Chaveis:',personagem4.keys())\n",
    "print('Somente Valores:',personagem4.values())"
   ]
  },
  {
   "cell_type": "code",
   "execution_count": 14,
   "metadata": {},
   "outputs": [
    {
     "name": "stdout",
     "output_type": "stream",
     "text": [
      "Todos os Itens: dict_items([('categoria', 'guerreiro'), ('força', 110), ('experiencia', 50), ('vida', 100), ('cura', 70), ('armas', ['escudo', 'espada', 'lança'])])\n",
      "Somente Chaveis: dict_keys(['categoria', 'força', 'experiencia', 'vida', 'cura', 'armas'])\n",
      "Somente Valores: dict_values(['guerreiro', 110, 50, 100, 70, ['escudo', 'espada', 'lança']])\n"
     ]
    }
   ],
   "source": [
    "# Separado os itens da lista 1\n",
    "\n",
    "print('Todos os Itens:',personagem1.items())\n",
    "print('Somente Chaveis:',personagem1.keys())\n",
    "print('Somente Valores:',personagem1.values())"
   ]
  },
  {
   "cell_type": "code",
   "execution_count": 15,
   "metadata": {},
   "outputs": [
    {
     "name": "stdout",
     "output_type": "stream",
     "text": [
      "Chave categoria\n",
      "Chave força\n",
      "Chave experiencia\n",
      "Chave vida\n",
      "Chave cura\n",
      "Chave armas\n"
     ]
    }
   ],
   "source": [
    "# Utilizado FOR para imprimir Chaves\n",
    "# Por padrão FOR trás as Chaves\n",
    "\n",
    "for var in personagem1:\n",
    "    print('Chave',var)"
   ]
  },
  {
   "cell_type": "code",
   "execution_count": 16,
   "metadata": {},
   "outputs": [
    {
     "name": "stdout",
     "output_type": "stream",
     "text": [
      "Chave: categoria / Mapeado para: guerreiro\n",
      "Chave: força / Mapeado para: 110\n",
      "Chave: experiencia / Mapeado para: 50\n",
      "Chave: vida / Mapeado para: 100\n",
      "Chave: cura / Mapeado para: 70\n",
      "Chave: armas / Mapeado para: ['escudo', 'espada', 'lança']\n"
     ]
    }
   ],
   "source": [
    "# Atribuições Múltiplas CHAVE / VALOR\n",
    "\n",
    "for (valorC,valorV) in personagem1.items():\n",
    "    print('Chave:',valorC , '/ Mapeado para:', valorV)"
   ]
  },
  {
   "cell_type": "code",
   "execution_count": 1,
   "metadata": {},
   "outputs": [
    {
     "ename": "NameError",
     "evalue": "name 'personagem1' is not defined",
     "output_type": "error",
     "traceback": [
      "\u001b[1;31m---------------------------------------------------------------------------\u001b[0m",
      "\u001b[1;31mNameError\u001b[0m                                 Traceback (most recent call last)",
      "\u001b[1;32m<ipython-input-1-f429fa7dcec0>\u001b[0m in \u001b[0;36m<module>\u001b[1;34m()\u001b[0m\n\u001b[0;32m      1\u001b[0m \u001b[1;31m# Outra forma - Impressão através de Índice VALORX\u001b[0m\u001b[1;33m\u001b[0m\u001b[1;33m\u001b[0m\u001b[0m\n\u001b[0;32m      2\u001b[0m \u001b[1;33m\u001b[0m\u001b[0m\n\u001b[1;32m----> 3\u001b[1;33m \u001b[1;32mfor\u001b[0m \u001b[0mvalorX\u001b[0m \u001b[1;32min\u001b[0m \u001b[0mpersonagem1\u001b[0m\u001b[1;33m:\u001b[0m\u001b[1;33m\u001b[0m\u001b[0m\n\u001b[0m\u001b[0;32m      4\u001b[0m     \u001b[0mprint\u001b[0m\u001b[1;33m(\u001b[0m\u001b[1;34m'Chave:'\u001b[0m\u001b[1;33m,\u001b[0m\u001b[0mvalorX\u001b[0m\u001b[1;33m,\u001b[0m\u001b[1;34m'/ Mapeado para:'\u001b[0m\u001b[1;33m,\u001b[0m\u001b[0mpersonagem1\u001b[0m\u001b[1;33m[\u001b[0m\u001b[0mvalorX\u001b[0m\u001b[1;33m]\u001b[0m\u001b[1;33m)\u001b[0m\u001b[1;33m\u001b[0m\u001b[0m\n",
      "\u001b[1;31mNameError\u001b[0m: name 'personagem1' is not defined"
     ]
    }
   ],
   "source": [
    "# Outra forma - Impressão através de Índice VALORX\n",
    "\n",
    "for valorX in personagem1:\n",
    "    print('Chave:',valorX,'/ Mapeado para:',personagem1[valorX])"
   ]
  },
  {
   "cell_type": "code",
   "execution_count": 77,
   "metadata": {},
   "outputs": [
    {
     "name": "stdout",
     "output_type": "stream",
     "text": [
      "True\n",
      "False\n",
      "True\n",
      "Quantidade de Bananas: 312 unidades\n"
     ]
    }
   ],
   "source": [
    "# Dicionário de Inventário\n",
    "# Usando operador IN\n",
    "\n",
    "inventario = {'maça':430, 'banana':312, 'laranja':525, 'pera':217}\n",
    "\n",
    "print('maça' in inventario)\n",
    "print('cereja' in inventario)\n",
    "print('banana' in inventario)\n",
    "\n",
    "if 'banana' in inventario:\n",
    "    print('Quantidade de Bananas:',inventario['banana'],'unidades')\n",
    "else:\n",
    "    print('Não temos banana')\n",
    "    \n"
   ]
  },
  {
   "cell_type": "markdown",
   "metadata": {},
   "source": [
    "# Método GET (Muito Importante)"
   ]
  },
  {
   "cell_type": "code",
   "execution_count": 79,
   "metadata": {},
   "outputs": [
    {
     "name": "stdout",
     "output_type": "stream",
     "text": [
      "None\n"
     ]
    }
   ],
   "source": [
    "# Método GET\n",
    "\n",
    "print(inventario.get('apples'))"
   ]
  },
  {
   "cell_type": "code",
   "execution_count": 81,
   "metadata": {},
   "outputs": [
    {
     "ename": "TypeError",
     "evalue": "'dict' object is not callable",
     "output_type": "error",
     "traceback": [
      "\u001b[1;31m---------------------------------------------------------------------------\u001b[0m",
      "\u001b[1;31mTypeError\u001b[0m                                 Traceback (most recent call last)",
      "\u001b[1;32m<ipython-input-81-bfb85317a6d6>\u001b[0m in \u001b[0;36m<module>\u001b[1;34m()\u001b[0m\n\u001b[0;32m      1\u001b[0m \u001b[1;31m# Sem o Método GET o código para de executar (ERRO)\u001b[0m\u001b[1;33m\u001b[0m\u001b[1;33m\u001b[0m\u001b[0m\n\u001b[0;32m      2\u001b[0m \u001b[1;33m\u001b[0m\u001b[0m\n\u001b[1;32m----> 3\u001b[1;33m \u001b[0mprint\u001b[0m\u001b[1;33m(\u001b[0m\u001b[0minventario\u001b[0m\u001b[1;33m(\u001b[0m\u001b[1;34m'apples'\u001b[0m\u001b[1;33m)\u001b[0m\u001b[1;33m)\u001b[0m\u001b[1;33m\u001b[0m\u001b[0m\n\u001b[0m",
      "\u001b[1;31mTypeError\u001b[0m: 'dict' object is not callable"
     ]
    }
   ],
   "source": [
    "# Sem o Método GET o código para de executar (ERRO)\n",
    "\n",
    "print(inventario('apples'))"
   ]
  },
  {
   "cell_type": "code",
   "execution_count": 84,
   "metadata": {},
   "outputs": [
    {
     "name": "stdout",
     "output_type": "stream",
     "text": [
      "None\n",
      "Não temos Apples\n"
     ]
    }
   ],
   "source": [
    "# GET já vem com tratamento de ERRO e não para o código como a INDEXAÇÂO\n",
    "# GET trata o ERRO facilmente\n",
    "\n",
    "print(inventario.get('apples'))\n",
    "\n",
    "# GET ainda permite um retorno padrão\n",
    "print(inventario.get('apples','Não temos Apples'))"
   ]
  },
  {
   "cell_type": "code",
   "execution_count": 87,
   "metadata": {},
   "outputs": [],
   "source": [
    "# O Método COPY permite copiar todo um dicionário para outra variável, SEM referencia do mesmo objeto\n",
    "\n",
    "mercado = inventario\n",
    "# Mercado recebe Inventário"
   ]
  },
  {
   "cell_type": "code",
   "execution_count": 89,
   "metadata": {},
   "outputs": [],
   "source": [
    "# Vamos alterar apenas Inventário\n",
    "\n",
    "inventario['melancia'] = 10"
   ]
  },
  {
   "cell_type": "code",
   "execution_count": 90,
   "metadata": {},
   "outputs": [
    {
     "name": "stdout",
     "output_type": "stream",
     "text": [
      "{'maça': 430, 'banana': 312, 'laranja': 525, 'pera': 217, 'melancia': 10}\n",
      "{'maça': 430, 'banana': 312, 'laranja': 525, 'pera': 217, 'melancia': 10}\n"
     ]
    }
   ],
   "source": [
    "print(inventario)\n",
    "print(mercado)"
   ]
  },
  {
   "cell_type": "code",
   "execution_count": 92,
   "metadata": {},
   "outputs": [],
   "source": [
    "# Utilizando o COPY (Fazendo uma cópia do Inventário para Quitanda)\n",
    "\n",
    "quitanda = inventario.copy()\n"
   ]
  },
  {
   "cell_type": "code",
   "execution_count": 93,
   "metadata": {},
   "outputs": [],
   "source": [
    "# Removendo um Item de Inventário\n",
    "\n",
    "del inventario['melancia']"
   ]
  },
  {
   "cell_type": "code",
   "execution_count": 95,
   "metadata": {},
   "outputs": [
    {
     "name": "stdout",
     "output_type": "stream",
     "text": [
      "{'maça': 430, 'banana': 312, 'laranja': 525, 'pera': 217}\n",
      "{'maça': 430, 'banana': 312, 'laranja': 525, 'pera': 217}\n",
      "{'maça': 430, 'banana': 312, 'laranja': 525, 'pera': 217, 'melancia': 10}\n"
     ]
    }
   ],
   "source": [
    "# Item removido de Inventário e da referência Mercado.\n",
    "# Item mantido na copia Quitanda \n",
    "\n",
    "print(inventario)\n",
    "print(mercado)\n",
    "print(quitanda)\n"
   ]
  },
  {
   "cell_type": "code",
   "execution_count": 110,
   "metadata": {},
   "outputs": [
    {
     "name": "stdout",
     "output_type": "stream",
     "text": [
      "{'UM': 1, 'DOIS': 2, 'TRES': 3, 'FOUR': 4}\n"
     ]
    }
   ],
   "source": [
    "# Alterando o nome das Chaves de Dicionários \n",
    "\n",
    "dicionario = {'UM':1,'DOIS':2,'TRES':3,'FOUR':4}\n",
    "print(dicionario)\n",
    "\n"
   ]
  },
  {
   "cell_type": "code",
   "execution_count": 112,
   "metadata": {},
   "outputs": [
    {
     "name": "stdout",
     "output_type": "stream",
     "text": [
      "{'UM': 1, 'DOIS': 2, 'TRES': 3, 'QUATRO': 4}\n"
     ]
    }
   ],
   "source": [
    "# Uso do POP. Retira o elemento e retorna ele próprio\n",
    "\n",
    "dicionario['QUATRO'] = dicionario.pop('FOUR')\n",
    "print(dicionario)\n"
   ]
  },
  {
   "cell_type": "code",
   "execution_count": 113,
   "metadata": {},
   "outputs": [
    {
     "data": {
      "text/plain": [
       "dict"
      ]
     },
     "execution_count": 113,
     "metadata": {},
     "output_type": "execute_result"
    }
   ],
   "source": [
    "type(dicionario)"
   ]
  },
  {
   "cell_type": "code",
   "execution_count": null,
   "metadata": {},
   "outputs": [],
   "source": []
  }
 ],
 "metadata": {
  "kernelspec": {
   "display_name": "Python 3",
   "language": "python",
   "name": "python3"
  },
  "language_info": {
   "codemirror_mode": {
    "name": "ipython",
    "version": 3
   },
   "file_extension": ".py",
   "mimetype": "text/x-python",
   "name": "python",
   "nbconvert_exporter": "python",
   "pygments_lexer": "ipython3",
   "version": "3.7.0"
  }
 },
 "nbformat": 4,
 "nbformat_minor": 2
}
