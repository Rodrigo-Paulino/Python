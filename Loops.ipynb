{
 "cells": [
  {
   "cell_type": "markdown",
   "metadata": {},
   "source": [
    "### Tópicos: Loop While, ElSE com WHILE, Loop For, Funções Built-in de Listas, Range, Range com Passos Definidos, PASS e BREAK, While e For Juntos"
   ]
  },
  {
   "cell_type": "markdown",
   "metadata": {},
   "source": [
    "# Loop While"
   ]
  },
  {
   "cell_type": "code",
   "execution_count": 3,
   "metadata": {},
   "outputs": [
    {
     "name": "stdout",
     "output_type": "stream",
     "text": [
      "0\n",
      "1\n",
      "2\n",
      "3\n",
      "4\n",
      "5\n",
      "6\n",
      "7\n",
      "8\n",
      "9\n",
      "10\n",
      "11\n",
      "12\n",
      "13\n",
      "14\n"
     ]
    }
   ],
   "source": [
    "# O Loop While requer dois cuidados\n",
    "# 1 - O loop somente é executado se a condição for TRUE.\n",
    "# 2 - O Loop obrigatoriamente tem que passar por um FALSE ou BREAK para ser parado. \n",
    "\n",
    "contador = 0\n",
    "\n",
    "while contador < 15:\n",
    "    print(contador)\n",
    "    contador = contador + 1"
   ]
  },
  {
   "cell_type": "code",
   "execution_count": 7,
   "metadata": {},
   "outputs": [
    {
     "name": "stdout",
     "output_type": "stream",
     "text": [
      "0\n",
      "1\n",
      "2\n",
      "3\n",
      "4\n",
      "5\n",
      "6\n",
      "7\n",
      "8\n",
      "9\n",
      "10\n",
      "Loop Concluído\n"
     ]
    }
   ],
   "source": [
    "# Usando ElSE com WHILE. ELSE é executado após o return FALSE.\n",
    "\n",
    "contador = 0\n",
    "\n",
    "while contador <= 10:\n",
    "    print(contador)\n",
    "    contador += 1\n",
    "else:\n",
    "    print('Loop Concluído')\n",
    "    \n",
    "# Exemplos de Loops \n",
    "# contador += 1\n",
    "# contador +* 2\n",
    "# contador + 1\n",
    "# contador +- 1\n"
   ]
  },
  {
   "cell_type": "markdown",
   "metadata": {},
   "source": [
    "# Loop For"
   ]
  },
  {
   "cell_type": "code",
   "execution_count": 2,
   "metadata": {},
   "outputs": [
    {
     "name": "stdout",
     "output_type": "stream",
     "text": [
      "João\n",
      "Jane\n",
      "Clara\n",
      "Celia\n",
      "Rodrigo\n"
     ]
    }
   ],
   "source": [
    "# A diferença emtre o FOR e o WHILE, é que o FOR será executado ao menos uma vez.\n",
    "\n",
    "lista = ['João', 'Jane', 'Clara', 'Celia', 'Rodrigo']\n",
    "\n",
    "for variavel in lista:\n",
    "    print(variavel)"
   ]
  },
  {
   "cell_type": "code",
   "execution_count": 3,
   "metadata": {},
   "outputs": [
    {
     "name": "stdout",
     "output_type": "stream",
     "text": [
      "D\n",
      "a\n",
      "t\n",
      "a\n",
      " \n",
      "S\n",
      "c\n",
      "i\n",
      "e\n",
      "n\n",
      "c\n",
      "e\n"
     ]
    }
   ],
   "source": [
    "# Percorrer String\n",
    "\n",
    "palavra = 'Data Science'\n",
    "\n",
    "for variavel in palavra:\n",
    "    print(variavel)\n",
    "    "
   ]
  },
  {
   "cell_type": "markdown",
   "metadata": {},
   "source": [
    "# Funções Built-in de Listas"
   ]
  },
  {
   "cell_type": "code",
   "execution_count": 4,
   "metadata": {},
   "outputs": [
    {
     "name": "stdout",
     "output_type": "stream",
     "text": [
      "[]\n",
      "['D', 'a', 't', 'a', ' ', 'S', 'c', 'i', 'e', 'n', 'c', 'e']\n"
     ]
    }
   ],
   "source": [
    "# São extremamente úteis\n",
    "\n",
    "lista =[]\n",
    "print(lista)\n",
    "\n",
    "for variavel in 'Data Science':\n",
    "    lista.append(variavel)\n",
    "    \n",
    "print(lista) # Vetoriza a palavra"
   ]
  },
  {
   "cell_type": "code",
   "execution_count": 34,
   "metadata": {},
   "outputs": [
    {
     "name": "stdout",
     "output_type": "stream",
     "text": [
      "2\n",
      "4\n",
      "6\n",
      "8\n",
      "10\n"
     ]
    }
   ],
   "source": [
    "# Números Pares\n",
    "\n",
    "lista = [1,2,3,4,5,6,7,8,9,10]\n",
    "\n",
    "for y in lista:\n",
    "    if y % 2 == 0:\n",
    "        print(y)\n"
   ]
  },
  {
   "cell_type": "code",
   "execution_count": 35,
   "metadata": {},
   "outputs": [
    {
     "name": "stdout",
     "output_type": "stream",
     "text": [
      "1\n",
      "3\n",
      "5\n",
      "7\n",
      "9\n"
     ]
    }
   ],
   "source": [
    "# Números Impares\n",
    "\n",
    "lista = [1,2,3,4,5,6,7,8,9,10]\n",
    "\n",
    "for y in lista:\n",
    "    if y % 2 > 0:\n",
    "        print(y)\n"
   ]
  },
  {
   "cell_type": "code",
   "execution_count": 39,
   "metadata": {},
   "outputs": [
    {
     "data": {
      "text/plain": [
       "['Santos',\n",
       " 'São Paulo',\n",
       " 'Palmeiras',\n",
       " 'Corinthians',\n",
       " 'Flamengo',\n",
       " 'Fluminense',\n",
       " 'Botafogo',\n",
       " 'Vasco']"
      ]
     },
     "execution_count": 39,
     "metadata": {},
     "output_type": "execute_result"
    }
   ],
   "source": [
    "# Compiando Elementos de uma lista para outra.\n",
    "\n",
    "times_rio = ['Flamengo', 'Fluminense', 'Botafogo', 'Vasco']\n",
    "times_sp = ['Santos','São Paulo','Palmeiras','Corinthians']\n",
    "\n",
    "for copaRioSampa in times_rio:\n",
    "    times_sp.append(copaRioSampa)\n",
    "    \n",
    "times_sp"
   ]
  },
  {
   "cell_type": "markdown",
   "metadata": {},
   "source": [
    "# Range"
   ]
  },
  {
   "cell_type": "code",
   "execution_count": 2,
   "metadata": {},
   "outputs": [
    {
     "name": "stdout",
     "output_type": "stream",
     "text": [
      "Aqui tem Range:\n",
      "1\n",
      "2\n",
      "3\n",
      "4\n",
      "5\n",
      "6\n",
      "7\n",
      "8\n",
      "9\n",
      "Aqui não tem Range:\n",
      "1\n",
      "10\n"
     ]
    }
   ],
   "source": [
    "# Range pode ser usado para simplifica um grande número de iterações.\n",
    "# Em uma Range a última posição será sempre EXCLUSIVA (O último objeto não entra).\n",
    "\n",
    "print('Aqui tem Range:')\n",
    "for x in range(1,10): # Com Range: No range o 10 não sai (último elemento é exclusivo e não é impresso)\n",
    "    print(x)\n",
    "\n",
    "\n",
    "print('Aqui não tem Range:')\n",
    "for x in (1,10): # Sem Rage\n",
    "    print(x)"
   ]
  },
  {
   "cell_type": "code",
   "execution_count": 51,
   "metadata": {},
   "outputs": [
    {
     "name": "stdout",
     "output_type": "stream",
     "text": [
      "0\n",
      "2\n",
      "4\n",
      "6\n",
      "8\n",
      "10\n",
      "12\n",
      "14\n",
      "16\n",
      "18\n",
      "20\n",
      "22\n",
      "24\n",
      "26\n",
      "28\n"
     ]
    }
   ],
   "source": [
    "# Range com passos definidos.\n",
    "# Lembrando que o último elemento é exclusivo e não é impresso.\n",
    "\n",
    "# Range Par\n",
    "for Z in range(0,30,2): # 2 é o passo\n",
    "    print(Z)\n"
   ]
  },
  {
   "cell_type": "code",
   "execution_count": 52,
   "metadata": {},
   "outputs": [
    {
     "name": "stdout",
     "output_type": "stream",
     "text": [
      "1\n",
      "3\n",
      "5\n",
      "7\n",
      "9\n",
      "11\n",
      "13\n",
      "15\n",
      "17\n",
      "19\n",
      "21\n",
      "23\n",
      "25\n",
      "27\n",
      "29\n"
     ]
    }
   ],
   "source": [
    "# Range Impar\n",
    "for Z in range(0,30,2): # 2 é o passo\n",
    "    print(Z + 1)"
   ]
  },
  {
   "cell_type": "markdown",
   "metadata": {},
   "source": [
    "# PASS e BREAK"
   ]
  },
  {
   "cell_type": "code",
   "execution_count": 5,
   "metadata": {},
   "outputs": [
    {
     "name": "stdout",
     "output_type": "stream",
     "text": [
      "A condição continua verdadeira. Então V vale: 0\n",
      "A condição continua verdadeira. Então V vale: 1\n",
      "A condição continua verdadeira. Então V vale: 2\n",
      "A condição continua verdadeira. Então V vale: 3\n",
      "A condição continua verdadeira. Então V vale: 4\n",
      "A condição continua verdadeira. Então V vale: 5\n",
      "A condição continua verdadeira. Então V vale: 6\n",
      "A condição continua verdadeira. Então V vale: 7\n",
      "A condição continua verdadeira. Então V vale: 8\n",
      "A condição continua verdadeira. Então V vale: 9\n",
      "A condição continua verdadeira. Então V vale: 10\n",
      "A condição continua verdadeira. Então V vale: 11\n",
      "A condição continua verdadeira. Então V vale: 12\n",
      "A condição continua verdadeira. Então V vale: 13\n",
      "A condição continua verdadeira. Então V vale: 14\n",
      "A condição continua verdadeira. Então V vale: 15\n",
      "A condição continua verdadeira. Então V vale: 16\n",
      "A condição continua verdadeira. Então V vale: 17\n",
      "A condição continua verdadeira. Então V vale: 18\n",
      "A condição continua verdadeira. Então V vale: 19\n",
      "A condição continua verdadeira. Então V vale: 20\n",
      "A condição continua verdadeira. Então V vale: 21\n",
      "A condição continua verdadeira. Então V vale: 22\n",
      "A condição continua verdadeira. Então V vale: 23\n",
      "A condição continua verdadeira. Então V vale: 24\n",
      "A condição continua verdadeira. Então V vale: 25\n",
      "A condição continua verdadeira. Então V vale: 26\n",
      "A condição continua verdadeira. Então V vale: 27\n",
      "A condição continua verdadeira. Então V vale: 28\n",
      "A condição continua verdadeira. Então V vale: 29\n"
     ]
    }
   ],
   "source": [
    "# São comandos que podem interromper o fluxo antes da condição principal se tornar falsa.\n",
    "\n",
    "v = 0\n",
    "while v < 1000:\n",
    "    print('A condição continua verdadeira. Então V vale: ' + str(v))\n",
    "    v = v + 1\n",
    "    \n",
    "    if v < 30:\n",
    "        pass\n",
    "    else:\n",
    "        break\n",
    "        "
   ]
  },
  {
   "cell_type": "code",
   "execution_count": 7,
   "metadata": {},
   "outputs": [
    {
     "name": "stdout",
     "output_type": "stream",
     "text": [
      "A condição continua verdadeira. Então I vale: 0\n",
      "A condição continua verdadeira. Então I vale: 1\n",
      "A condição continua verdadeira. Então I vale: 2\n",
      "A condição continua verdadeira. Então I vale: 3\n",
      "A condição continua verdadeira. Então I vale: 4\n",
      "A condição continua verdadeira. Então I vale: 5\n",
      "A condição continua verdadeira. Então I vale: 6\n",
      "A condição continua verdadeira. Então I vale: 7\n",
      "A condição continua verdadeira. Então I vale: 8\n",
      "A condição continua verdadeira. Então I vale: 9\n",
      "A condição continua verdadeira. Então I vale: 10\n",
      "A condição continua verdadeira. Então I vale: 11\n",
      "A condição continua verdadeira. Então I vale: 12\n",
      "A condição continua verdadeira. Então I vale: 13\n",
      "A condição continua verdadeira. Então I vale: 14\n",
      "A condição continua verdadeira. Então I vale: 15\n",
      "A condição continua verdadeira. Então I vale: 16\n",
      "A condição continua verdadeira. Então I vale: 17\n",
      "A condição continua verdadeira. Então I vale: 18\n",
      "A condição continua verdadeira. Então I vale: 19\n",
      "A condição continua verdadeira. Então I vale: 20\n",
      "A condição continua verdadeira. Então I vale: 21\n",
      "A condição continua verdadeira. Então I vale: 22\n",
      "A condição continua verdadeira. Então I vale: 23\n",
      "A condição continua verdadeira. Então I vale: 24\n",
      "A condição continua verdadeira. Então I vale: 25\n",
      "A condição continua verdadeira. Então I vale: 26\n",
      "A condição continua verdadeira. Então I vale: 27\n",
      "A condição continua verdadeira. Então I vale: 28\n",
      "A condição continua verdadeira. Então I vale: 29\n",
      "A condição continua verdadeira. Então I vale: 30\n"
     ]
    }
   ],
   "source": [
    "# Até a condição verdadeira. Inverte BREAK e PASS\n",
    "\n",
    "i = 0\n",
    "while True:\n",
    "    print('A condição continua verdadeira. Então I vale: ' + str(i))\n",
    "    i = i + 1\n",
    "    \n",
    "    if i > 30:\n",
    "        break\n",
    "    else:\n",
    "        pass"
   ]
  },
  {
   "cell_type": "code",
   "execution_count": 20,
   "metadata": {},
   "outputs": [
    {
     "name": "stdout",
     "output_type": "stream",
     "text": [
      "A condição continua verdadeira. Então I vale: 0\n",
      "A condição continua verdadeira. Então I vale: 1\n",
      "A condição continua verdadeira. Então I vale: 2\n",
      "A condição continua verdadeira. Então I vale: 3\n",
      "A condição continua verdadeira. Então I vale: 4\n",
      "A condição continua verdadeira. Então I vale: 5\n",
      "A condição continua verdadeira. Então I vale: 6\n",
      "A condição continua verdadeira. Então I vale: 7\n",
      "A condição continua verdadeira. Então I vale: 8\n",
      "A condição continua verdadeira. Então I vale: 9\n",
      "A condição continua verdadeira. Então I vale: 10\n",
      "A condição continua verdadeira. Então I vale: 11\n",
      "A condição continua verdadeira. Então I vale: 12\n",
      "A condição continua verdadeira. Então I vale: 13\n",
      "A condição continua verdadeira. Então I vale: 14\n",
      "A condição continua verdadeira. Então I vale: 15\n",
      "A condição continua verdadeira. Então I vale: 16\n",
      "A condição continua verdadeira. Então I vale: 17\n",
      "A condição continua verdadeira. Então I vale: 18\n",
      "A condição continua verdadeira. Então I vale: 19\n",
      "A condição continua verdadeira. Então I vale: 20\n",
      "A condição continua verdadeira. Então I vale: 21\n",
      "A condição continua verdadeira. Então I vale: 22\n",
      "A condição continua verdadeira. Então I vale: 23\n",
      "A condição continua verdadeira. Então I vale: 24\n",
      "A condição continua verdadeira. Então I vale: 25\n",
      "A condição continua verdadeira. Então I vale: 26\n",
      "A condição continua verdadeira. Então I vale: 27\n",
      "A condição continua verdadeira. Então I vale: 28\n",
      "A condição continua verdadeira. Então I vale: 29\n",
      "A condição continua verdadeira. Então I vale: 30\n"
     ]
    }
   ],
   "source": [
    "############################ Testes #############################\n",
    "\n",
    "i = 0\n",
    "while True:\n",
    "    print('A condição continua verdadeira. Então I vale:',i)\n",
    "    i = i + 1\n",
    "    \n",
    "    if i > 30:\n",
    "        break\n",
    "    else:\n",
    "        pass"
   ]
  },
  {
   "cell_type": "code",
   "execution_count": 14,
   "metadata": {},
   "outputs": [
    {
     "name": "stdout",
     "output_type": "stream",
     "text": [
      "0\n",
      "10\n",
      "20\n",
      "30\n",
      "40\n",
      "50\n",
      "60\n",
      "70\n",
      "80\n",
      "90\n",
      "100\n"
     ]
    }
   ],
   "source": [
    "r = 0\n",
    "while r < 1000:\n",
    "    if r == 110:\n",
    "        break\n",
    "    else:\n",
    "        pass\n",
    "    print(r)\n",
    "    r = r + 10"
   ]
  },
  {
   "cell_type": "code",
   "execution_count": 20,
   "metadata": {},
   "outputs": [
    {
     "name": "stdout",
     "output_type": "stream",
     "text": [
      "2\n",
      "4\n",
      "6\n",
      "8\n",
      "10\n",
      "12\n",
      "14\n",
      "16\n",
      "18\n",
      "20\n",
      "22\n",
      "24\n",
      "26\n",
      "28\n"
     ]
    }
   ],
   "source": [
    "# Usando o PASS para imprimir números PARES\n",
    "\n",
    "indice = 2\n",
    "while indice < 30:\n",
    "   \n",
    "    if indice % 2 == 1:\n",
    "        pass\n",
    "    else:\n",
    "        print(indice)\n",
    "        \n",
    "    indice = indice + 1    \n",
    "    \n",
    "    "
   ]
  },
  {
   "cell_type": "code",
   "execution_count": 22,
   "metadata": {},
   "outputs": [
    {
     "name": "stdout",
     "output_type": "stream",
     "text": [
      "Numero ímpar:  3\n",
      "Numero par:  4\n",
      "Numero ímpar:  5\n",
      "Numero par:  6\n",
      "Numero ímpar:  7\n",
      "Numero par:  8\n",
      "Numero ímpar:  9\n"
     ]
    }
   ],
   "source": [
    "num = 3\n",
    "while num < 10:\n",
    "    if(num % 2 == 0):\n",
    "        print('Numero par: ', num)\n",
    "    else:\n",
    "        print('Numero ímpar: ', num)\n",
    "        \n",
    "    num = num + 1"
   ]
  },
  {
   "cell_type": "markdown",
   "metadata": {},
   "source": [
    "# While e For Juntos"
   ]
  },
  {
   "cell_type": "code",
   "execution_count": 15,
   "metadata": {},
   "outputs": [
    {
     "name": "stdout",
     "output_type": "stream",
     "text": [
      "------- Iteração 1 - For: 0\n",
      "Iteração 2 - While:  0\n",
      "Iteração 2 - While:  1\n",
      "Iteração 2 - While:  2\n",
      "Iteração 2 - While:  3\n",
      "Iteração 2 - While:  4\n",
      "------- Iteração 1 - For: 1\n",
      "Iteração 2 - While:  0\n",
      "Iteração 2 - While:  1\n",
      "Iteração 2 - While:  2\n",
      "Iteração 2 - While:  3\n",
      "Iteração 2 - While:  4\n",
      "------- Iteração 1 - For: 2\n",
      "Iteração 2 - While:  0\n",
      "Iteração 2 - While:  1\n",
      "Iteração 2 - While:  2\n",
      "Iteração 2 - While:  3\n",
      "Iteração 2 - While:  4\n",
      "------- Iteração 1 - For: 3\n",
      "Iteração 2 - While:  0\n",
      "Iteração 2 - While:  1\n",
      "Iteração 2 - While:  2\n",
      "Iteração 2 - While:  3\n",
      "Iteração 2 - While:  4\n",
      "------- Iteração 1 - For: 4\n",
      "Iteração 2 - While:  0\n",
      "Iteração 2 - While:  1\n",
      "Iteração 2 - While:  2\n",
      "Iteração 2 - While:  3\n",
      "Iteração 2 - While:  4\n",
      "------- Iteração 1 - For: 5\n",
      "Iteração 2 - While:  0\n",
      "Iteração 2 - While:  1\n",
      "Iteração 2 - While:  2\n",
      "Iteração 2 - While:  3\n",
      "Iteração 2 - While:  4\n",
      "------- Iteração 1 - For: 6\n",
      "Iteração 2 - While:  0\n",
      "Iteração 2 - While:  1\n",
      "Iteração 2 - While:  2\n",
      "Iteração 2 - While:  3\n",
      "Iteração 2 - While:  4\n",
      "------- Iteração 1 - For: 7\n",
      "Iteração 2 - While:  0\n",
      "Iteração 2 - While:  1\n",
      "Iteração 2 - While:  2\n",
      "Iteração 2 - While:  3\n",
      "Iteração 2 - While:  4\n",
      "------- Iteração 1 - For: 8\n",
      "Iteração 2 - While:  0\n",
      "Iteração 2 - While:  1\n",
      "Iteração 2 - While:  2\n",
      "Iteração 2 - While:  3\n",
      "Iteração 2 - While:  4\n",
      "------- Iteração 1 - For: 9\n",
      "Iteração 2 - While:  0\n",
      "Iteração 2 - While:  1\n",
      "Iteração 2 - While:  2\n",
      "Iteração 2 - While:  3\n",
      "Iteração 2 - While:  4\n"
     ]
    }
   ],
   "source": [
    "for x in range (0,10):\n",
    "    j = 0\n",
    "    print('------- Iteração 1 - For: ' + str(x))\n",
    "    \n",
    "    while j < 5:\n",
    "        print('Iteração 2 - While: ', j)\n",
    "        j =j + 1\n",
    "    \n",
    "    "
   ]
  },
  {
   "cell_type": "code",
   "execution_count": null,
   "metadata": {},
   "outputs": [],
   "source": []
  }
 ],
 "metadata": {
  "kernelspec": {
   "display_name": "Python 3",
   "language": "python",
   "name": "python3"
  },
  "language_info": {
   "codemirror_mode": {
    "name": "ipython",
    "version": 3
   },
   "file_extension": ".py",
   "mimetype": "text/x-python",
   "name": "python",
   "nbconvert_exporter": "python",
   "pygments_lexer": "ipython3",
   "version": "3.6.5"
  }
 },
 "nbformat": 4,
 "nbformat_minor": 2
}
