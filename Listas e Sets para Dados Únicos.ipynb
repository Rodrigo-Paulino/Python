{
 "cells": [
  {
   "cell_type": "markdown",
   "metadata": {},
   "source": [
    "### Tópicos:  Criação de Listas, Listas Heterogeneas, Indexação de Listas, Atualização de Listas, Operações com Listas, Add e Remover Elementos, Listas Aninhadas, Concatenando Listas, Operador In, Contar Tamanho da Lista, Contar Número de Elementos, Valor Maximo e Mínimo, Ordena e Reverte Listas, Adicionar Valor, POP - Retira e Retorna, SET - Conjutos Únicos ñ Repetidos."
   ]
  },
  {
   "cell_type": "markdown",
   "metadata": {},
   "source": [
    "\n",
    "# Criando Listas"
   ]
  },
  {
   "cell_type": "code",
   "execution_count": 2,
   "metadata": {},
   "outputs": [
    {
     "name": "stdout",
     "output_type": "stream",
     "text": [
      "['Python', 'R', 'Julia', 'PHP']\n"
     ]
    }
   ],
   "source": [
    "# Criação de Listas. Usar []\n",
    "\n",
    "linguagens = [\"Python\",\"R\",\"Julia\",\"PHP\"]\n",
    "print(linguagens)"
   ]
  },
  {
   "cell_type": "code",
   "execution_count": 3,
   "metadata": {},
   "outputs": [
    {
     "name": "stdout",
     "output_type": "stream",
     "text": [
      "['Brasil', 58, 62, 70, 94, 2002, 2018]\n"
     ]
    }
   ],
   "source": [
    "# Listas Heterogenea - String e Números\n",
    "\n",
    "mundiais = [\"Brasil\", 58,62,70,94,2002,2018]\n",
    "print(mundiais)"
   ]
  },
  {
   "cell_type": "code",
   "execution_count": 4,
   "metadata": {},
   "outputs": [
    {
     "name": "stdout",
     "output_type": "stream",
     "text": [
      "Brasil\n",
      "58\n",
      "62\n",
      "70\n",
      "94\n",
      "2002\n",
      "2018\n"
     ]
    }
   ],
   "source": [
    "# Indexação de Listas\n",
    "\n",
    "pais = mundiais[0]\n",
    "titulo01 = mundiais[1]\n",
    "titulo02 = mundiais[2]\n",
    "titulo03 = mundiais[3]\n",
    "titulo04 = mundiais[4]\n",
    "titulo05 = mundiais[5]\n",
    "titulo06 = mundiais[6]\n",
    "\n",
    "print(pais)\n",
    "print(titulo01)\n",
    "print(titulo02)\n",
    "print(titulo03)\n",
    "print(titulo04)\n",
    "print(titulo05)\n",
    "print(titulo06)"
   ]
  },
  {
   "cell_type": "markdown",
   "metadata": {},
   "source": [
    "# Atualização de Listas"
   ]
  },
  {
   "cell_type": "code",
   "execution_count": 5,
   "metadata": {},
   "outputs": [
    {
     "data": {
      "text/plain": [
       "'Brasil'"
      ]
     },
     "execution_count": 5,
     "metadata": {},
     "output_type": "execute_result"
    }
   ],
   "source": [
    "mundiais[0]"
   ]
  },
  {
   "cell_type": "code",
   "execution_count": 6,
   "metadata": {},
   "outputs": [],
   "source": [
    "mundiais[0] = \"Alemanhã\""
   ]
  },
  {
   "cell_type": "code",
   "execution_count": 7,
   "metadata": {},
   "outputs": [
    {
     "data": {
      "text/plain": [
       "'Alemanhã'"
      ]
     },
     "execution_count": 7,
     "metadata": {},
     "output_type": "execute_result"
    }
   ],
   "source": [
    "mundiais[0]"
   ]
  },
  {
   "cell_type": "code",
   "execution_count": 8,
   "metadata": {},
   "outputs": [
    {
     "name": "stdout",
     "output_type": "stream",
     "text": [
      "['Alemanhã', 58, 62, 70, 94, 2002, 2018]\n"
     ]
    }
   ],
   "source": [
    "print(mundiais)"
   ]
  },
  {
   "cell_type": "markdown",
   "metadata": {},
   "source": [
    "# Operações com Listas"
   ]
  },
  {
   "cell_type": "code",
   "execution_count": 9,
   "metadata": {},
   "outputs": [
    {
     "name": "stdout",
     "output_type": "stream",
     "text": [
      "['Alemanhã']\n"
     ]
    }
   ],
   "source": [
    "# Remover elementos da lista.\n",
    "\n",
    "del mundiais[1:]\n",
    "print(mundiais)"
   ]
  },
  {
   "cell_type": "code",
   "execution_count": 10,
   "metadata": {},
   "outputs": [
    {
     "name": "stdout",
     "output_type": "stream",
     "text": [
      "['Alemanhã', 2014]\n"
     ]
    }
   ],
   "source": [
    "# Adicionar elementos na lista.\n",
    "\n",
    "mundiais.append(2014)\n",
    "print(mundiais)"
   ]
  },
  {
   "cell_type": "code",
   "execution_count": 11,
   "metadata": {},
   "outputs": [
    {
     "name": "stdout",
     "output_type": "stream",
     "text": [
      "['Alemanhã', 2014, 1954, 1974, 1990]\n"
     ]
    }
   ],
   "source": [
    "# Adicionar mais de um elemento na lista\n",
    "\n",
    "mundiais.extend([1954, 1974, 1990])\n",
    "print(mundiais)"
   ]
  },
  {
   "cell_type": "code",
   "execution_count": 12,
   "metadata": {},
   "outputs": [
    {
     "name": "stdout",
     "output_type": "stream",
     "text": [
      "['Alemanhã', 2014, 1954, 1974]\n"
     ]
    }
   ],
   "source": [
    "mundiais.remove(1990)\n",
    "print(mundiais)"
   ]
  },
  {
   "cell_type": "markdown",
   "metadata": {},
   "source": [
    "# Listas Aninhadas"
   ]
  },
  {
   "cell_type": "code",
   "execution_count": 13,
   "metadata": {},
   "outputs": [
    {
     "name": "stdout",
     "output_type": "stream",
     "text": [
      "[['Brasil', 1958, 1962, 1970, 1994, 2002], ['Alemanha', 1954, 1974, 1990, 2014]]\n"
     ]
    }
   ],
   "source": [
    "mundiais = [[\"Brasil\", 1958, 1962, 1970, 1994, 2002], [\"Alemanha\", 1954, 1974, 1990, 2014]]\n",
    "print(mundiais)"
   ]
  },
  {
   "cell_type": "code",
   "execution_count": 14,
   "metadata": {},
   "outputs": [
    {
     "name": "stdout",
     "output_type": "stream",
     "text": [
      "['Brasil', 1958, 1962, 1970, 1994, 2002]\n"
     ]
    }
   ],
   "source": [
    "print(mundiais[0])"
   ]
  },
  {
   "cell_type": "code",
   "execution_count": 15,
   "metadata": {},
   "outputs": [
    {
     "name": "stdout",
     "output_type": "stream",
     "text": [
      "['Alemanha', 1954, 1974, 1990, 2014]\n"
     ]
    }
   ],
   "source": [
    "print(mundiais[1])"
   ]
  },
  {
   "cell_type": "code",
   "execution_count": 16,
   "metadata": {},
   "outputs": [
    {
     "name": "stdout",
     "output_type": "stream",
     "text": [
      "1962\n"
     ]
    }
   ],
   "source": [
    "print(mundiais[0][2])"
   ]
  },
  {
   "cell_type": "markdown",
   "metadata": {},
   "source": [
    "# Concatenando Listas"
   ]
  },
  {
   "cell_type": "code",
   "execution_count": 17,
   "metadata": {},
   "outputs": [
    {
     "name": "stdout",
     "output_type": "stream",
     "text": [
      "['Argentina', 1986, 1978, 'Alemanha', 1954, 1974, 1990, 2014, 'Brasil', 1958, 1962, 1970, 1994, 2002]\n"
     ]
    }
   ],
   "source": [
    "a = [\"Argentina\", 1986, 1978]\n",
    "b = [\"Alemanha\", 1954, 1974, 1990, 2014]\n",
    "c = [\"Brasil\", 1958, 1962, 1970, 1994, 2002]\n",
    "\n",
    "# Concatenado\n",
    "\n",
    "fifa = a + b + c\n",
    "\n",
    "print(fifa)"
   ]
  },
  {
   "cell_type": "code",
   "execution_count": 18,
   "metadata": {},
   "outputs": [
    {
     "data": {
      "text/plain": [
       "1962"
      ]
     },
     "execution_count": 18,
     "metadata": {},
     "output_type": "execute_result"
    }
   ],
   "source": [
    "fifa[10]"
   ]
  },
  {
   "cell_type": "markdown",
   "metadata": {},
   "source": [
    "# Operador In"
   ]
  },
  {
   "cell_type": "code",
   "execution_count": 19,
   "metadata": {},
   "outputs": [
    {
     "name": "stdout",
     "output_type": "stream",
     "text": [
      "False\n",
      "True\n"
     ]
    }
   ],
   "source": [
    "# Verifica elementos na lista\n",
    "print(\"Uruguai\" in fifa)\n",
    "print(\"Brasil\" in fifa)"
   ]
  },
  {
   "cell_type": "code",
   "execution_count": 22,
   "metadata": {},
   "outputs": [
    {
     "name": "stdout",
     "output_type": "stream",
     "text": [
      "O indice da equipe é: 8\n",
      "Nome da equipe: Brasil\n",
      "[1958, 1962, 1970, 1994, 2002]\n"
     ]
    }
   ],
   "source": [
    "equipe = 'Brasil' \n",
    "\n",
    "if equipe in fifa:\n",
    "    a = fifa.index(equipe) # Retorna o  indice / posição de Brasil na lista FIFA\n",
    "    print('O indice da equipe é:',a)\n",
    "    print('Nome da equipe: '+ equipe)\n",
    "    print(fifa[a + 1: ])\n",
    "else:\n",
    "    print(equipe + '- Não possui títulos ou não está na lista.')\n",
    "    "
   ]
  },
  {
   "cell_type": "markdown",
   "metadata": {},
   "source": [
    "# Funções Built-in com Listas"
   ]
  },
  {
   "cell_type": "code",
   "execution_count": 23,
   "metadata": {},
   "outputs": [
    {
     "data": {
      "text/plain": [
       "14"
      ]
     },
     "execution_count": 23,
     "metadata": {},
     "output_type": "execute_result"
    }
   ],
   "source": [
    "# Tamanho da Lista - Conta o número de elementos\n",
    "\n",
    "len(fifa)"
   ]
  },
  {
   "cell_type": "code",
   "execution_count": 24,
   "metadata": {},
   "outputs": [
    {
     "ename": "TypeError",
     "evalue": "'>' not supported between instances of 'int' and 'str'",
     "output_type": "error",
     "traceback": [
      "\u001b[1;31m---------------------------------------------------------------------------\u001b[0m",
      "\u001b[1;31mTypeError\u001b[0m                                 Traceback (most recent call last)",
      "\u001b[1;32m<ipython-input-24-c29036f78e74>\u001b[0m in \u001b[0;36m<module>\u001b[1;34m()\u001b[0m\n\u001b[0;32m      1\u001b[0m \u001b[1;31m# Valor maximo - Não funciona com listas heterogeneas, dará erro.\u001b[0m\u001b[1;33m\u001b[0m\u001b[1;33m\u001b[0m\u001b[0m\n\u001b[0;32m      2\u001b[0m \u001b[1;33m\u001b[0m\u001b[0m\n\u001b[1;32m----> 3\u001b[1;33m \u001b[0mmax\u001b[0m\u001b[1;33m(\u001b[0m\u001b[0mfifa\u001b[0m\u001b[1;33m)\u001b[0m\u001b[1;33m\u001b[0m\u001b[0m\n\u001b[0m",
      "\u001b[1;31mTypeError\u001b[0m: '>' not supported between instances of 'int' and 'str'"
     ]
    }
   ],
   "source": [
    "# Valor maximo - Não funciona com listas heterogeneas, dará erro.\n",
    "\n",
    "max(fifa)"
   ]
  },
  {
   "cell_type": "code",
   "execution_count": 85,
   "metadata": {},
   "outputs": [],
   "source": [
    "# Valor maximo e mínimo - Lista numérica ou de palavras. \n",
    "\n",
    "numeros = [43,45,67,89,64,225,677,89,55,8,789,63,7]\n",
    "palavras = ['Cachorro', 'Macaco', 'Zebra', 'Gato']\n"
   ]
  },
  {
   "cell_type": "code",
   "execution_count": 86,
   "metadata": {},
   "outputs": [
    {
     "name": "stdout",
     "output_type": "stream",
     "text": [
      "[43, 45, 67, 89, 64, 225, 677, 89, 55, 8, 789, 63, 7]\n",
      "['Cachorro', 'Macaco', 'Zebra', 'Gato']\n"
     ]
    }
   ],
   "source": [
    "print(numeros)\n",
    "print(palavras)"
   ]
  },
  {
   "cell_type": "code",
   "execution_count": 87,
   "metadata": {},
   "outputs": [
    {
     "name": "stdout",
     "output_type": "stream",
     "text": [
      "789\n",
      "Zebra\n"
     ]
    }
   ],
   "source": [
    "print(max(numeros)) # Maior da ordem numérica\n",
    "print(max(palavras)) # Maior da ordem alfabetica"
   ]
  },
  {
   "cell_type": "code",
   "execution_count": 88,
   "metadata": {},
   "outputs": [
    {
     "name": "stdout",
     "output_type": "stream",
     "text": [
      "7\n",
      "Cachorro\n"
     ]
    }
   ],
   "source": [
    "print(min(numeros)) # Menor da ordem numérica\n",
    "print(min(palavras)) # Menor da ordem alfabetica"
   ]
  },
  {
   "cell_type": "code",
   "execution_count": 89,
   "metadata": {},
   "outputs": [
    {
     "data": {
      "text/plain": [
       "[7, 6, 5, 4, 8, 2, 10]"
      ]
     },
     "execution_count": 89,
     "metadata": {},
     "output_type": "execute_result"
    }
   ],
   "source": [
    "# Reverte a Lista POSICIONAMENTE\n",
    "\n",
    "numeros = [10,2,8,4,5,6,7]\n",
    "numeros.reverse()\n",
    "numeros"
   ]
  },
  {
   "cell_type": "code",
   "execution_count": 92,
   "metadata": {},
   "outputs": [
    {
     "data": {
      "text/plain": [
       "[2, 4, 5, 6, 7, 8, 10]"
      ]
     },
     "execution_count": 92,
     "metadata": {},
     "output_type": "execute_result"
    }
   ],
   "source": [
    "# Ordena em ordem CRESCENTE\n",
    "\n",
    "numeros.sort()\n",
    "numeros"
   ]
  },
  {
   "cell_type": "code",
   "execution_count": 95,
   "metadata": {},
   "outputs": [
    {
     "data": {
      "text/plain": [
       "[10, 8, 7, 6, 5, 4, 2]"
      ]
     },
     "execution_count": 95,
     "metadata": {},
     "output_type": "execute_result"
    }
   ],
   "source": [
    "# Ordena em ordem DECRESCENTE (Ordena e Reverte)\n",
    "\n",
    "numeros.sort()\n",
    "numeros.reverse()\n",
    "numeros"
   ]
  },
  {
   "cell_type": "code",
   "execution_count": 99,
   "metadata": {},
   "outputs": [
    {
     "name": "stdout",
     "output_type": "stream",
     "text": [
      "['Cachorro', 'Macaco', 'Zebra', 'Gato', 'Macaco']\n"
     ]
    },
    {
     "data": {
      "text/plain": [
       "2"
      ]
     },
     "execution_count": 99,
     "metadata": {},
     "output_type": "execute_result"
    }
   ],
   "source": [
    "# Adicionar valor repetido\n",
    "\n",
    "palavras = ['Cachorro', 'Macaco', 'Zebra', 'Gato']\n",
    "palavras.append('Macaco')\n",
    "\n",
    "# Contando Ocorrências\n",
    "print(palavras)\n",
    "palavras.count('Macaco')"
   ]
  },
  {
   "cell_type": "code",
   "execution_count": 101,
   "metadata": {},
   "outputs": [
    {
     "name": "stdout",
     "output_type": "stream",
     "text": [
      "[]\n"
     ]
    },
    {
     "data": {
      "text/plain": [
       "list"
      ]
     },
     "execution_count": 101,
     "metadata": {},
     "output_type": "execute_result"
    }
   ],
   "source": [
    "# Criando lista vazia\n",
    "\n",
    "a = []\n",
    "print(a)\n",
    "type(a)"
   ]
  },
  {
   "cell_type": "code",
   "execution_count": 107,
   "metadata": {},
   "outputs": [
    {
     "name": "stdout",
     "output_type": "stream",
     "text": [
      "['B', 'C', 'D', 'E', 'A']\n"
     ]
    }
   ],
   "source": [
    "# POP - Retira o último objeto da lista, mas tem como retorno o próprio objeto. É POSICIONAL\n",
    "\n",
    "lista = ['B','C','D','E','A']\n",
    "print(lista)"
   ]
  },
  {
   "cell_type": "code",
   "execution_count": 108,
   "metadata": {},
   "outputs": [
    {
     "name": "stdout",
     "output_type": "stream",
     "text": [
      "A\n",
      "['B', 'C', 'D', 'E']\n"
     ]
    }
   ],
   "source": [
    "print(lista.pop())\n",
    "print(lista)"
   ]
  },
  {
   "cell_type": "code",
   "execution_count": 115,
   "metadata": {},
   "outputs": [
    {
     "name": "stdout",
     "output_type": "stream",
     "text": [
      "['B', 'C', 'D', 'E', 'A']\n",
      "Retirando o objetivo  C\n",
      "['B', 'D', 'E', 'A']\n",
      "Agora quero retirar o objeto E da lista. Retirando:  E\n",
      "['B', 'D', 'A']\n"
     ]
    }
   ],
   "source": [
    "# Podemos INDEXAR o objeto, iniciando de 0.\n",
    "\n",
    "lista = ['B','C','D','E','A']\n",
    "print(lista)\n",
    "print(\"Retirando o objetivo \", lista.pop(1))\n",
    "print(lista)\n",
    "print(\"Agora quero retirar o objeto E da lista. Retirando: \", lista.pop(2))\n",
    "print(lista)"
   ]
  },
  {
   "cell_type": "markdown",
   "metadata": {},
   "source": [
    "# Os SETS são conjuntos unicos. Semelhante à um SELECT DISTINCT, e são muito utilizados em Análises de Dados. \n",
    "Importante: Não suportam IDEXAÇÂO. "
   ]
  },
  {
   "cell_type": "code",
   "execution_count": 119,
   "metadata": {},
   "outputs": [
    {
     "name": "stdout",
     "output_type": "stream",
     "text": [
      "{'Python', 'R', 'Java'}\n"
     ]
    }
   ],
   "source": [
    "# SET são difrentes de listas. São conjutos únicos é não suportam IDEXAÇÂO. \n",
    "\n",
    "conjunto = set()\n",
    "\n",
    "conjunto.add('Java')\n",
    "conjunto.add('R')\n",
    "conjunto.add('Python')\n",
    "\n",
    "print(conjunto)"
   ]
  },
  {
   "cell_type": "code",
   "execution_count": 125,
   "metadata": {},
   "outputs": [
    {
     "name": "stdout",
     "output_type": "stream",
     "text": [
      "{'Python', 'R', 'JavaScript', 'Java'}\n"
     ]
    },
    {
     "data": {
      "text/plain": [
       "set"
      ]
     },
     "execution_count": 125,
     "metadata": {},
     "output_type": "execute_result"
    }
   ],
   "source": [
    "conjunto.add('Java')\n",
    "conjunto.add('JavaScript')\n",
    "\n",
    "print(conjunto)\n",
    "type(conjunto)\n",
    "\n",
    "# SET - Não tráz o elemento repetido \n",
    "# Exemplo o segundo (Java) adicionado"
   ]
  },
  {
   "cell_type": "code",
   "execution_count": 129,
   "metadata": {},
   "outputs": [
    {
     "name": "stdout",
     "output_type": "stream",
     "text": [
      "{'Celia', 'João', 'Jane', 'Clara'}\n",
      "{'Celia', 'Clara', 'Sam', 'Susan'}\n",
      "{'Jane', 'Clara', 'Zack', 'Susan'}\n"
     ]
    }
   ],
   "source": [
    "# Operações com SETs\n",
    "\n",
    "engenheiros = set(['João', 'Jane', 'Clara', 'Celia'])\n",
    "programadores = set(['Clara', 'Sam', 'Susan', 'Celia'])\n",
    "gerentes = set(['Jane', 'Clara', 'Susan', 'Zack'])\n",
    "\n",
    "print(engenheiros)\n",
    "print(programadores)\n",
    "print(gerentes)"
   ]
  },
  {
   "cell_type": "code",
   "execution_count": 130,
   "metadata": {},
   "outputs": [
    {
     "name": "stdout",
     "output_type": "stream",
     "text": [
      "{'Zack', 'Celia', 'João', 'Jane', 'Clara', 'Sam', 'Susan'}\n"
     ]
    }
   ],
   "source": [
    "# União\n",
    "\n",
    "funcionarios = engenheiros | programadores | gerentes\n",
    "\n",
    "print(funcionarios)"
   ]
  },
  {
   "cell_type": "code",
   "execution_count": 131,
   "metadata": {},
   "outputs": [
    {
     "name": "stdout",
     "output_type": "stream",
     "text": [
      "{'Jane', 'Clara'}\n"
     ]
    }
   ],
   "source": [
    "# Interseção\n",
    "\n",
    "func_gerencia = engenheiros & gerentes\n",
    "\n",
    "print(func_gerencia)"
   ]
  },
  {
   "cell_type": "code",
   "execution_count": 1,
   "metadata": {},
   "outputs": [
    {
     "name": "stdout",
     "output_type": "stream",
     "text": [
      "{'Zack', 'Susan'}\n",
      "{'Jane', 'Zack'}\n",
      "{'Jane', 'João'}\n"
     ]
    }
   ],
   "source": [
    "# Diferença\n",
    "\n",
    "engenheiros = set(['João', 'Jane', 'Clara', 'Celia'])\n",
    "programadores = set(['Clara', 'Sam', 'Susan', 'Celia'])\n",
    "gerentes = set(['Jane', 'Clara', 'Susan', 'Zack'])\n",
    "\n",
    "a = gerentes - engenheiros\n",
    "print(a)\n",
    "\n",
    "b = gerentes - programadores\n",
    "print(b)\n",
    "\n",
    "c = engenheiros - programadores\n",
    "print(c)\n"
   ]
  },
  {
   "cell_type": "code",
   "execution_count": null,
   "metadata": {},
   "outputs": [],
   "source": []
  }
 ],
 "metadata": {
  "kernelspec": {
   "display_name": "Python 3",
   "language": "python",
   "name": "python3"
  },
  "language_info": {
   "codemirror_mode": {
    "name": "ipython",
    "version": 3
   },
   "file_extension": ".py",
   "mimetype": "text/x-python",
   "name": "python",
   "nbconvert_exporter": "python",
   "pygments_lexer": "ipython3",
   "version": "3.7.0"
  }
 },
 "nbformat": 4,
 "nbformat_minor": 2
}
