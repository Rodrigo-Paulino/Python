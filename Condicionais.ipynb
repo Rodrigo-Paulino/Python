{
 "cells": [
  {
   "cell_type": "markdown",
   "metadata": {},
   "source": [
    "### Tópicos: If, Else, Elif"
   ]
  },
  {
   "cell_type": "markdown",
   "metadata": {},
   "source": [
    "# Condicionais "
   ]
  },
  {
   "cell_type": "code",
   "execution_count": null,
   "metadata": {},
   "outputs": [],
   "source": [
    "a = \"Dentro do if\"\n",
    "b = \"Fora do if\"\n",
    "if(2 == 2):\n",
    "    print(a)\n",
    "else:\n",
    "    print(b)\n"
   ]
  },
  {
   "cell_type": "code",
   "execution_count": 6,
   "metadata": {},
   "outputs": [
    {
     "name": "stdout",
     "output_type": "stream",
     "text": [
      "Menor que 40 e menor que 10\n"
     ]
    }
   ],
   "source": [
    "num = 9\n",
    "if num > 40:\n",
    "    if num <= 50:\n",
    "        print(\"Menor que 50\")\n",
    "    else:\n",
    "        print(\"Maior que 50\")\n",
    "else:\n",
    "    if num <= 40:\n",
    "        if num >= 10:\n",
    "            print(\"Menor que 40 e maior que 10\")\n",
    "        else:\n",
    "            print(\"Menor que 40 e menor que 10\")\n",
    "            "
   ]
  },
  {
   "cell_type": "code",
   "execution_count": 7,
   "metadata": {},
   "outputs": [
    {
     "name": "stdout",
     "output_type": "stream",
     "text": [
      "Opção 3\n"
     ]
    }
   ],
   "source": [
    "n = 0\n",
    "if n > 3:\n",
    "    print(\"Opção 1\")\n",
    "elif n == 3:\n",
    "    print(\"Opção 2\")\n",
    "elif n < 3:\n",
    "    print(\"Opção 3\")\n",
    "else: \n",
    "    print(\"Opção 4\")"
   ]
  },
  {
   "cell_type": "code",
   "execution_count": 8,
   "metadata": {},
   "outputs": [
    {
     "name": "stdout",
     "output_type": "stream",
     "text": [
      "Impar\n"
     ]
    }
   ],
   "source": [
    "a = 542452325\n",
    "b = a % 2\n",
    "if b == 0:\n",
    "    print(\"Par\")\n",
    "else:\n",
    "    print(\"Impar\")\n",
    "\n"
   ]
  }
 ],
 "metadata": {
  "kernelspec": {
   "display_name": "Python 3",
   "language": "python",
   "name": "python3"
  },
  "language_info": {
   "codemirror_mode": {
    "name": "ipython",
    "version": 3
   },
   "file_extension": ".py",
   "mimetype": "text/x-python",
   "name": "python",
   "nbconvert_exporter": "python",
   "pygments_lexer": "ipython3",
   "version": "3.7.0"
  }
 },
 "nbformat": 4,
 "nbformat_minor": 2
}
