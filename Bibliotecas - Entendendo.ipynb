{
 "cells": [
  {
   "cell_type": "markdown",
   "metadata": {},
   "source": [
    "### Tópicos: Importando Biblioteca, Calculando a Média, Importando Função Específica da Biblioteca"
   ]
  },
  {
   "cell_type": "markdown",
   "metadata": {},
   "source": [
    "# Importando Biblioteca"
   ]
  },
  {
   "cell_type": "code",
   "execution_count": 21,
   "metadata": {},
   "outputs": [],
   "source": [
    "# \"Biblioteca\" para calcular a média\n",
    "\n",
    "# def calc_media(lista):\n",
    "#     tamanho = len(lista)\n",
    "#     total = sum(lista)\n",
    "#     media = total / tamanho\n",
    "#     return media"
   ]
  },
  {
   "cell_type": "code",
   "execution_count": 16,
   "metadata": {},
   "outputs": [],
   "source": [
    "# Importação da Biblioteca \n",
    "\n",
    "import arquivo_media as am # Isso é um Alias"
   ]
  },
  {
   "cell_type": "code",
   "execution_count": 17,
   "metadata": {},
   "outputs": [
    {
     "name": "stdout",
     "output_type": "stream",
     "text": [
      "20219.5\n"
     ]
    }
   ],
   "source": [
    "lista = [678, 9968, 4465, 65767]\n",
    "print(arquivo_media.calc_media(lista))"
   ]
  },
  {
   "cell_type": "code",
   "execution_count": 18,
   "metadata": {},
   "outputs": [
    {
     "name": "stdout",
     "output_type": "stream",
     "text": [
      "30759.0\n"
     ]
    }
   ],
   "source": [
    "lista2 = [7687, 8908, 6664, 99777]\n",
    "print(arquivo_media.calc_media(lista2))"
   ]
  },
  {
   "cell_type": "code",
   "execution_count": 20,
   "metadata": {},
   "outputs": [
    {
     "name": "stdout",
     "output_type": "stream",
     "text": [
      "30759.0\n"
     ]
    }
   ],
   "source": [
    "print(am.calc_media(lista2)) # Usando Alias"
   ]
  },
  {
   "cell_type": "markdown",
   "metadata": {},
   "source": [
    "# Importando Função Específica da Biblioteca"
   ]
  },
  {
   "cell_type": "code",
   "execution_count": 3,
   "metadata": {},
   "outputs": [
    {
     "name": "stdout",
     "output_type": "stream",
     "text": [
      "20219.5\n"
     ]
    }
   ],
   "source": [
    "from arquivo_media_func import func_calc_media # Importando apenas 1 função e não toda a biblioteca\n",
    "\n",
    "lista3 = [678, 9968, 4465, 65767]\n",
    "print(func_calc_media(lista3))"
   ]
  },
  {
   "cell_type": "code",
   "execution_count": 5,
   "metadata": {},
   "outputs": [
    {
     "name": "stdout",
     "output_type": "stream",
     "text": [
      "30759.0\n"
     ]
    }
   ],
   "source": [
    "lista4 = [7687, 8908, 6664, 99777]\n",
    "print(func_calc_media(lista4))"
   ]
  },
  {
   "cell_type": "code",
   "execution_count": null,
   "metadata": {},
   "outputs": [],
   "source": []
  }
 ],
 "metadata": {
  "kernelspec": {
   "display_name": "Python 3",
   "language": "python",
   "name": "python3"
  },
  "language_info": {
   "codemirror_mode": {
    "name": "ipython",
    "version": 3
   },
   "file_extension": ".py",
   "mimetype": "text/x-python",
   "name": "python",
   "nbconvert_exporter": "python",
   "pygments_lexer": "ipython3",
   "version": "3.6.5"
  }
 },
 "nbformat": 4,
 "nbformat_minor": 2
}
