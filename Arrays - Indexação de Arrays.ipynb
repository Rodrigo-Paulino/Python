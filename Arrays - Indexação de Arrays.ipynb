{
 "cells": [
  {
   "cell_type": "markdown",
   "metadata": {},
   "source": [
    "### Tópicos: Indexação de Arrays, Tamanho do Array, Índice do Array, Utilizando Passo, Índices Negativos, Invertendo o Array, Copiando Array, Concatenando Arrays"
   ]
  },
  {
   "cell_type": "markdown",
   "metadata": {},
   "source": [
    "# Indexação de Arrays"
   ]
  },
  {
   "cell_type": "code",
   "execution_count": 1,
   "metadata": {},
   "outputs": [],
   "source": [
    "import numpy as np"
   ]
  },
  {
   "cell_type": "code",
   "execution_count": 2,
   "metadata": {},
   "outputs": [
    {
     "name": "stdout",
     "output_type": "stream",
     "text": [
      "<class 'numpy.ndarray'>\n"
     ]
    }
   ],
   "source": [
    "a = [1,2,11,6,8,18,2]\n",
    "\n",
    "array = np.array(a)\n",
    "\n",
    "print(type(array))"
   ]
  },
  {
   "cell_type": "code",
   "execution_count": 4,
   "metadata": {},
   "outputs": [
    {
     "name": "stdout",
     "output_type": "stream",
     "text": [
      "(7,)\n"
     ]
    }
   ],
   "source": [
    "#Verificando o tamanho do array\n",
    "# (n1,n2)\n",
    "# n1 = linha\n",
    "# n2 = coluna\n",
    "\n",
    "print(array.shape) # Array de 1 dimensão"
   ]
  },
  {
   "cell_type": "code",
   "execution_count": 5,
   "metadata": {},
   "outputs": [
    {
     "data": {
      "text/plain": [
       "1"
      ]
     },
     "execution_count": 5,
     "metadata": {},
     "output_type": "execute_result"
    }
   ],
   "source": [
    "#Primeiro Elemento\n",
    "\n",
    "array[0]"
   ]
  },
  {
   "cell_type": "code",
   "execution_count": 6,
   "metadata": {},
   "outputs": [
    {
     "data": {
      "text/plain": [
       "11"
      ]
     },
     "execution_count": 6,
     "metadata": {},
     "output_type": "execute_result"
    }
   ],
   "source": [
    "#Elemento no índice 2\n",
    "\n",
    "array[2]"
   ]
  },
  {
   "cell_type": "code",
   "execution_count": 7,
   "metadata": {},
   "outputs": [
    {
     "data": {
      "text/plain": [
       "2"
      ]
     },
     "execution_count": 7,
     "metadata": {},
     "output_type": "execute_result"
    }
   ],
   "source": [
    "#Ultimo elemento\n",
    "\n",
    "array[-1]"
   ]
  },
  {
   "cell_type": "code",
   "execution_count": 9,
   "metadata": {},
   "outputs": [
    {
     "name": "stdout",
     "output_type": "stream",
     "text": [
      "[ 2 11  6  8]\n"
     ]
    }
   ],
   "source": [
    "#Trazendo do índice 1 até o 5 (exclusivo)\n",
    "\n",
    "print(array[1:5]) # O último elento é exclusivo"
   ]
  },
  {
   "cell_type": "code",
   "execution_count": 10,
   "metadata": {},
   "outputs": [
    {
     "name": "stdout",
     "output_type": "stream",
     "text": [
      "[2 6]\n"
     ]
    }
   ],
   "source": [
    "#Utilizando um passo de 2 em 2\n",
    "\n",
    "print(array[1:5:2])"
   ]
  },
  {
   "cell_type": "code",
   "execution_count": 11,
   "metadata": {},
   "outputs": [
    {
     "name": "stdout",
     "output_type": "stream",
     "text": [
      "[ 1  2 11  6]\n"
     ]
    }
   ],
   "source": [
    "#Trazendo com índices negativos\n",
    "# -7 reresenta o primeiro da esquerda e -3 o ultimo elemento a ser trazido (exclusivo)\n",
    "\n",
    "print(array[-7:-3])"
   ]
  },
  {
   "cell_type": "code",
   "execution_count": 12,
   "metadata": {},
   "outputs": [
    {
     "name": "stdout",
     "output_type": "stream",
     "text": [
      "[ 6  8 18  2]\n"
     ]
    }
   ],
   "source": [
    "#Indice 3 até o fim\n",
    "\n",
    "print(array[3:])"
   ]
  },
  {
   "cell_type": "code",
   "execution_count": 13,
   "metadata": {},
   "outputs": [
    {
     "name": "stdout",
     "output_type": "stream",
     "text": [
      "[1, 2, 11, 6]\n"
     ]
    }
   ],
   "source": [
    "#Início até o índice 4\n",
    "\n",
    "print(a[:4])"
   ]
  },
  {
   "cell_type": "code",
   "execution_count": 14,
   "metadata": {},
   "outputs": [
    {
     "data": {
      "text/plain": [
       "array([ 2, 18,  8,  6, 11,  2,  1])"
      ]
     },
     "execution_count": 14,
     "metadata": {},
     "output_type": "execute_result"
    }
   ],
   "source": [
    "#Invertendo o array - Inicio até o fim, ao passo de -1\n",
    "\n",
    "#a = [1,2,11,6,8,18,2]\n",
    "\n",
    "array[::-1]"
   ]
  },
  {
   "cell_type": "code",
   "execution_count": 15,
   "metadata": {},
   "outputs": [
    {
     "name": "stdout",
     "output_type": "stream",
     "text": [
      "[ 1  2 11  6  8 18  2]\n"
     ]
    }
   ],
   "source": [
    "#Copiando um array por referência\n",
    "\n",
    "b = array[:] \n",
    "print(b)"
   ]
  },
  {
   "cell_type": "code",
   "execution_count": 16,
   "metadata": {},
   "outputs": [
    {
     "name": "stdout",
     "output_type": "stream",
     "text": [
      "[ 2  6  8  4 11  8  2]\n"
     ]
    }
   ],
   "source": [
    "#Concatenando 2 arrays = Juntando arrays\n",
    "\n",
    "x = np.array([2,6,8,4])\n",
    "\n",
    "y = np.array([11,8,2])\n",
    "\n",
    "z = np.concatenate([x,y])\n",
    "\n",
    "print(z)"
   ]
  },
  {
   "cell_type": "code",
   "execution_count": null,
   "metadata": {
    "collapsed": true
   },
   "outputs": [],
   "source": []
  }
 ],
 "metadata": {
  "kernelspec": {
   "display_name": "Python 3",
   "language": "python",
   "name": "python3"
  },
  "language_info": {
   "codemirror_mode": {
    "name": "ipython",
    "version": 3
   },
   "file_extension": ".py",
   "mimetype": "text/x-python",
   "name": "python",
   "nbconvert_exporter": "python",
   "pygments_lexer": "ipython3",
   "version": "3.7.0"
  }
 },
 "nbformat": 4,
 "nbformat_minor": 2
}
