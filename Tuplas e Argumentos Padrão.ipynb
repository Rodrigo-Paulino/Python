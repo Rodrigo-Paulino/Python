{
 "cells": [
  {
   "cell_type": "markdown",
   "metadata": {},
   "source": [
    "### Tópicos: Tuplas, Descompactando Tuplas, Tuplas são imutáveis, Argumentos Padrão (BOX)"
   ]
  },
  {
   "cell_type": "markdown",
   "metadata": {},
   "source": [
    "# Tuplas"
   ]
  },
  {
   "cell_type": "code",
   "execution_count": 1,
   "metadata": {},
   "outputs": [
    {
     "name": "stdout",
     "output_type": "stream",
     "text": [
      "(2410, 1227)\n",
      "(5816, 3039)\n",
      "(314, 5252)\n",
      "<class 'tuple'>\n",
      "1227\n",
      "A Latitude de Salvador é 5816.\n"
     ]
    }
   ],
   "source": [
    "# Tuplas usam parentese ()\n",
    "# Listas usam colchetes []\n",
    "# Dicionários usam chaves {}\n",
    "\n",
    "# Latitude e Longitude\n",
    "Rio_de_Janeiro = (2410,1227)\n",
    "Salvador = (5816,3039)\n",
    "Recife = (314,5252)\n",
    "\n",
    "print(Rio_de_Janeiro)\n",
    "print(Salvador)\n",
    "print(Recife)\n",
    "\n",
    "# Tipo\n",
    "print(type(Salvador))\n",
    "\n",
    "# É indexada\n",
    "print(Rio_de_Janeiro[1])\n",
    "\n",
    "# Indexada\n",
    "print('A Latitude de Salvador é {}.'.format(Salvador[0]))\n"
   ]
  },
  {
   "cell_type": "code",
   "execution_count": 32,
   "metadata": {},
   "outputs": [
    {
     "name": "stdout",
     "output_type": "stream",
     "text": [
      "As dimensões são 53 x 89 x 52\n",
      "As dimensões são 53 x 89 x 52\n"
     ]
    }
   ],
   "source": [
    "# Descompactando Tuplas\n",
    "# Tuplas sem parênteses são usadas, mas não recomendadas.\n",
    "\n",
    "# Tuplas sem parênteses\n",
    "dimensoes = 53, 89, 52\n",
    "\n",
    "# Retorno recebe variável proporcionalmente a posição.\n",
    "largura, altura, profundidade = dimensoes \n",
    "\n",
    "# Print usando comando format (Format é um método do tipo String)\n",
    "print(\"As dimensões são {} x {} x {}\".format(largura, altura, profundidade))\n",
    "\n",
    "# Print sem usar o comando format\n",
    "print(\"As dimensões são\", largura,\"x\", altura,\"x\", profundidade)\n"
   ]
  },
  {
   "cell_type": "code",
   "execution_count": 33,
   "metadata": {},
   "outputs": [
    {
     "name": "stdout",
     "output_type": "stream",
     "text": [
      "As dimensões são 53 x 89 x 52\n",
      "As dimensões são 53 x 89 x 52\n"
     ]
    }
   ],
   "source": [
    "# Tuplas com parênteses\n",
    "dimensoes = (53, 89, 52)\n",
    "\n",
    "# Retorno recebe variável proporcionalmente a posição.\n",
    "(largura, altura, profundidade) = dimensoes \n",
    "\n",
    "# Print usando comando format (Format é um método do tipo String (colocado depois da String))\n",
    "print(\"As dimensões são {} x {} x {}\".format(largura, altura, profundidade))\n",
    "\n",
    "# Print sem usar o comando format (Mais simples)\n",
    "print(\"As dimensões são\", largura,\"x\", altura,\"x\", profundidade)"
   ]
  },
  {
   "cell_type": "code",
   "execution_count": 37,
   "metadata": {},
   "outputs": [
    {
     "name": "stdout",
     "output_type": "stream",
     "text": [
      "(5816, 3039)\n"
     ]
    },
    {
     "ename": "NameError",
     "evalue": "name 'Salvador' is not defined",
     "output_type": "error",
     "traceback": [
      "\u001b[1;31m---------------------------------------------------------------------------\u001b[0m",
      "\u001b[1;31mNameError\u001b[0m                                 Traceback (most recent call last)",
      "\u001b[1;32m<ipython-input-37-d34dba5473bd>\u001b[0m in \u001b[0;36m<module>\u001b[1;34m()\u001b[0m\n\u001b[0;32m      5\u001b[0m \u001b[1;32mdel\u001b[0m \u001b[0mSalvador\u001b[0m\u001b[1;33m\u001b[0m\u001b[0m\n\u001b[0;32m      6\u001b[0m \u001b[1;33m\u001b[0m\u001b[0m\n\u001b[1;32m----> 7\u001b[1;33m \u001b[0mSalvador\u001b[0m\u001b[1;33m[\u001b[0m\u001b[1;36m0\u001b[0m\u001b[1;33m]\u001b[0m\u001b[1;33m\u001b[0m\u001b[0m\n\u001b[0m",
      "\u001b[1;31mNameError\u001b[0m: name 'Salvador' is not defined"
     ]
    }
   ],
   "source": [
    "# Tuplas são imutáveis, para modificar tem que excluir e cria uma nova.\n",
    "\n",
    "print(Salvador)\n",
    "\n",
    "del Salvador\n",
    "\n",
    "Salvador[0]\n"
   ]
  },
  {
   "cell_type": "code",
   "execution_count": 39,
   "metadata": {},
   "outputs": [
    {
     "name": "stdout",
     "output_type": "stream",
     "text": [
      "(5810, 3030)\n"
     ]
    }
   ],
   "source": [
    "# Recriou modificada \n",
    "\n",
    "Salvador = (5810,3030)\n",
    "print(Salvador)"
   ]
  },
  {
   "cell_type": "markdown",
   "metadata": {},
   "source": [
    "# Argumentos Padrão"
   ]
  },
  {
   "cell_type": "code",
   "execution_count": 7,
   "metadata": {},
   "outputs": [],
   "source": [
    "# Sem argumento padrão\n",
    "\n",
    "def box(largura, altura, caracter):\n",
    "    print(caracter * largura)\n",
    "    #Imprimirá o caracter multiplicado pela largura \n",
    "    \n",
    "    for x in range(altura - 2):\n",
    "        \n",
    "        print(caracter + \" \" * (largura-2) + caracter)\n",
    "    \n",
    "    print(caracter * largura)\n",
    "    "
   ]
  },
  {
   "cell_type": "code",
   "execution_count": 8,
   "metadata": {},
   "outputs": [
    {
     "name": "stdout",
     "output_type": "stream",
     "text": [
      "**********\n",
      "*        *\n",
      "*        *\n",
      "*        *\n",
      "*        *\n",
      "*        *\n",
      "*        *\n",
      "**********\n"
     ]
    }
   ],
   "source": [
    "box(10, 8, '*')"
   ]
  },
  {
   "cell_type": "code",
   "execution_count": 23,
   "metadata": {},
   "outputs": [],
   "source": [
    "# Com argumento padrão\n",
    "\n",
    "def box(largura, altura, caracter = '*'):\n",
    "    print(caracter * largura)\n",
    "    for y in range(altura-2):\n",
    "        print(caracter + \" \" * (largura-2) + caracter)\n",
    "    print(caracter * largura)"
   ]
  },
  {
   "cell_type": "code",
   "execution_count": 24,
   "metadata": {},
   "outputs": [
    {
     "name": "stdout",
     "output_type": "stream",
     "text": [
      "**************************************************\n",
      "*                                                *\n",
      "*                                                *\n",
      "*                                                *\n",
      "*                                                *\n",
      "*                                                *\n",
      "*                                                *\n",
      "*                                                *\n",
      "*                                                *\n",
      "**************************************************\n"
     ]
    }
   ],
   "source": [
    "box(50,10)"
   ]
  },
  {
   "cell_type": "code",
   "execution_count": null,
   "metadata": {},
   "outputs": [],
   "source": []
  }
 ],
 "metadata": {
  "kernelspec": {
   "display_name": "Python 3",
   "language": "python",
   "name": "python3"
  },
  "language_info": {
   "codemirror_mode": {
    "name": "ipython",
    "version": 3
   },
   "file_extension": ".py",
   "mimetype": "text/x-python",
   "name": "python",
   "nbconvert_exporter": "python",
   "pygments_lexer": "ipython3",
   "version": "3.6.5"
  }
 },
 "nbformat": 4,
 "nbformat_minor": 2
}
