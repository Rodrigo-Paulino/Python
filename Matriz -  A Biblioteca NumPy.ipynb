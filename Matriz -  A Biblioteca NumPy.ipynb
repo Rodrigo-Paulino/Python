{
 "cells": [
  {
   "cell_type": "markdown",
   "metadata": {},
   "source": [
    "### Tópicos: Importação do NumPy, Array, Estruturas Unidimensionais, Estruturas Bidimensionais, Shape (saber/ver o tamanho do array), Ndim (dimensões do array), Método MAX, Método Arrange (de 0 ao último exclusivo), Método Linspace (de 0 ao último ñ exclusivo), Estruturas de Matrizes, Numpy.zeros (Preenche com 0), Numpy.ones (Preenche com 1), Numpy.eye (Cria Matriz Identitiy), Numpy.diag (Define números das diagonais), Numpy.empty (Cria Matriz vazia), Numpy.tile (Repete o Arays em linhas ou colunas) "
   ]
  },
  {
   "cell_type": "markdown",
   "metadata": {},
   "source": [
    "## Numpy - Biblioteca matemática, mais utilizada com Álgebra Linear. Vetores e Matrizes."
   ]
  },
  {
   "cell_type": "markdown",
   "metadata": {
    "collapsed": true
   },
   "source": [
    "# Descomplicando Matrizes:\n",
    "\n",
    "Mn x n = \n",
    "\n",
    "Linha x Coluna = \n",
    "\n",
    "5, 10 = \n",
    "\n",
    "5 linhas por 10 Colunas\n",
    "_______________________________\n",
    "\n",
    "Matriz Linha = [1 4 5 -9 n...] = 1 Linha, N colunas\n",
    "_______________________________\n",
    "\n",
    "Matriz Coluna [1\n",
    "               2\n",
    "               7\n",
    "               n] = 1 Coluna, N Linhas\n",
    "_______________________________\n",
    "\n",
    "Matriz Unitária [89] = 1 Linha, 1 Coluna (1x1)\n",
    "_______________________________\n",
    "\n",
    "Matriz Retangular (Linha diferente de Coluna)= m <> n = 3 > 2\n",
    "_______________________________\n",
    "\n",
    "Matriz Quadrada (Linha igual Coluna)= m = n = 3 = 3\n",
    "________________________________\n",
    "\n",
    "M. Quadrada - Diagonal Principal = Diagonal que Vai\n",
    "\n",
    "M. Quadrada - Diagonal Secundária = Diagonal que Vem\n",
    "________________________________\n",
    "\n",
    "Martrizes Quadradas pode se chamar = Matriz de Ordem 3, Matriz de Ordem 3, Matriz de Ordem 7, etc. (Linha igual Coluna)\n",
    "\n",
    "O Número da Diagonal será sempre a ordem da matriz (em matriz quadrada)\n",
    "_________________________________\n",
    "\n",
    "Matriz Tringular Inferior = Valores em baixo da diagonal\n",
    "\n",
    "Matriz Tringular Superior = Valores em cima da diagonal\n",
    "__________________________________\n",
    "\n",
    "Matriz Diagonal = Todos os valores são nulos menos os da diagonal\n",
    "__________________________________\n",
    "\n",
    "Matriz Identidade = Diagonal principal toda igual a 1\n",
    "__________________________________\n",
    "\n",
    "Matriz Simétrica = Os elementos estão posicionalmente iguais em ambos os lados\n",
    "\n",
    "# Operações com Matrizes\n",
    "\n",
    "Soma & Subtração:\n",
    "As matrizes precisam ser de mesma dimensão para Soma e Subtração\n",
    "Soma ou subtrai a mesma posição com a mesma posição da outra matriz = matriz resultado\n",
    "_____________________________________________\n",
    "\n",
    "Multiplicação Escalar = Todos os índices pelo mesmo número\n",
    "\n",
    "Ex: 5 x cada posição na matriz = matriz resultado com o resultado na mesma posição anterior \n",
    "____________________________________________\n",
    "\n",
    "Produto entre Matrizes\n",
    "\n",
    "Regra Principal  = Só é posível quando Linhas de uma matriz é igual a Colunas da outra matriz\n",
    "\n",
    "Regra Secundária = Não é comutativo AxB é diferente de BxA\n",
    "\n",
    "Matriz 1 = 3 x 2 (2 Colunas)\n",
    "Matriz 2 = 2 x 3 (2 Linhas)\n",
    "\n",
    "Tamanho Matriz Resultado = O que sobra = Matriz Resultado será 3 x 3 (3 linhas e 3 colunas)\n",
    " \n",
    "Multiplicar = Multiplica posição das linhas por colunas (Image 19 Edit -  A Biblioteca NumPy.png)\n",
    "____________________________________________\n",
    "\n",
    "Divisão entre matrizes\n",
    "\n",
    "Divisão entre A x B (Matriz 1 / Matriz 2) é igual Multilplicação da Matriz 1 pela Matriz 2 inversa (Matriz 1 * Matriz 2 inversa)\n",
    "_______________________________________\n",
    "\n",
    "Matriz Transposta = Escrever linhas como colunas = O que é linha vira coluna e vise e versa\n",
    "________________________________________\n",
    "\n",
    "Exercícios:\n",
    "\n",
    "Simetrica [3 5 7]\n",
    "          [2 4 6]\n",
    "          [1 3 5]\n",
    "           \n",
    "Transposta [3 2 1]\n",
    "           [5 4 6]\n",
    "           [7 6 5]\n",
    "_________________________________________            "
   ]
  },
  {
   "cell_type": "code",
   "execution_count": 2,
   "metadata": {},
   "outputs": [],
   "source": [
    "#Importação do NumPy\n",
    "import numpy as np"
   ]
  },
  {
   "cell_type": "markdown",
   "metadata": {},
   "source": [
    "Estruturas Unidimensionais"
   ]
  },
  {
   "cell_type": "code",
   "execution_count": 3,
   "metadata": {},
   "outputs": [],
   "source": [
    "a1 = np.array(['Spark','Hadoop','Python','R'])"
   ]
  },
  {
   "cell_type": "code",
   "execution_count": 4,
   "metadata": {},
   "outputs": [
    {
     "data": {
      "text/plain": [
       "array(['Spark', 'Hadoop', 'Python', 'R'], dtype='<U6')"
      ]
     },
     "execution_count": 4,
     "metadata": {},
     "output_type": "execute_result"
    }
   ],
   "source": [
    "a1"
   ]
  },
  {
   "cell_type": "markdown",
   "metadata": {},
   "source": [
    "# Arrays podem ter listas de tipos diferentes"
   ]
  },
  {
   "cell_type": "markdown",
   "metadata": {},
   "source": [
    "Estruturas Bidimensionais"
   ]
  },
  {
   "cell_type": "code",
   "execution_count": 5,
   "metadata": {},
   "outputs": [],
   "source": [
    "# Forma errada: (['Altura','Largura','Profundidade'],[42, 78, 10]) \n",
    "\n",
    "# Forma certa: ([['Altura','Largura','Profundidade'],[42, 78, 10]])"
   ]
  },
  {
   "cell_type": "code",
   "execution_count": 6,
   "metadata": {},
   "outputs": [],
   "source": [
    "a2 = np.array([['Altura','Largura','Profundidade'],[42, 78, 10]]) # Usar dois blocos de paranteses + o pareteses do NumPy"
   ]
  },
  {
   "cell_type": "code",
   "execution_count": 7,
   "metadata": {},
   "outputs": [
    {
     "data": {
      "text/plain": [
       "array([['Altura', 'Largura', 'Profundidade'],\n",
       "       ['42', '78', '10']], dtype='<U12')"
      ]
     },
     "execution_count": 7,
     "metadata": {},
     "output_type": "execute_result"
    }
   ],
   "source": [
    "a2"
   ]
  },
  {
   "cell_type": "code",
   "execution_count": 8,
   "metadata": {},
   "outputs": [],
   "source": [
    "a3 = np.array([[10,20,30],[40,50,60],[40,50,60]])"
   ]
  },
  {
   "cell_type": "code",
   "execution_count": 9,
   "metadata": {},
   "outputs": [
    {
     "data": {
      "text/plain": [
       "array([[10, 20, 30],\n",
       "       [40, 50, 60],\n",
       "       [40, 50, 60]])"
      ]
     },
     "execution_count": 9,
     "metadata": {},
     "output_type": "execute_result"
    }
   ],
   "source": [
    "a3 # Assim começamos a montar uma matriz"
   ]
  },
  {
   "cell_type": "code",
   "execution_count": 10,
   "metadata": {},
   "outputs": [
    {
     "name": "stdout",
     "output_type": "stream",
     "text": [
      "(4,)\n",
      "(2, 3)\n",
      "(3, 3)\n"
     ]
    }
   ],
   "source": [
    "# Para saber/ver o tamanho do array\n",
    "print(a1.shape)\n",
    "print(a2.shape)\n",
    "print(a3.shape)"
   ]
  },
  {
   "cell_type": "code",
   "execution_count": 11,
   "metadata": {},
   "outputs": [
    {
     "data": {
      "text/plain": [
       "1"
      ]
     },
     "execution_count": 11,
     "metadata": {},
     "output_type": "execute_result"
    }
   ],
   "source": [
    "#Dimensoes do Array\n",
    "a1.ndim"
   ]
  },
  {
   "cell_type": "code",
   "execution_count": 12,
   "metadata": {},
   "outputs": [
    {
     "data": {
      "text/plain": [
       "2"
      ]
     },
     "execution_count": 12,
     "metadata": {},
     "output_type": "execute_result"
    }
   ],
   "source": [
    "a2.ndim"
   ]
  },
  {
   "cell_type": "code",
   "execution_count": 13,
   "metadata": {},
   "outputs": [
    {
     "data": {
      "text/plain": [
       "2"
      ]
     },
     "execution_count": 13,
     "metadata": {},
     "output_type": "execute_result"
    }
   ],
   "source": [
    "a3.ndim"
   ]
  },
  {
   "cell_type": "markdown",
   "metadata": {},
   "source": [
    "Nota: Ausência ou presença de parênteses: Realizar uma analogia com Características e Ações. \n",
    "\n",
    "-> O uso de parênteses reflete uma AÇÃO. \n",
    "\n",
    "-> A ausência de parenteses, reflete uma CARACTERÍSTICA."
   ]
  },
  {
   "cell_type": "code",
   "execution_count": 14,
   "metadata": {},
   "outputs": [
    {
     "data": {
      "text/plain": [
       "60"
      ]
     },
     "execution_count": 14,
     "metadata": {},
     "output_type": "execute_result"
    }
   ],
   "source": [
    "#O método max() não funciona em arrays de tipo heterogeneo\n",
    "a3.max()"
   ]
  },
  {
   "cell_type": "code",
   "execution_count": 15,
   "metadata": {},
   "outputs": [
    {
     "name": "stdout",
     "output_type": "stream",
     "text": [
      "2\n",
      "2\n"
     ]
    }
   ],
   "source": [
    "# Atributo\n",
    "print(a2.ndim)\n",
    "print(a3.ndim)"
   ]
  },
  {
   "cell_type": "markdown",
   "metadata": {},
   "source": [
    "# Método Arrange"
   ]
  },
  {
   "cell_type": "code",
   "execution_count": 16,
   "metadata": {},
   "outputs": [
    {
     "data": {
      "text/plain": [
       "array([ 0,  1,  2,  3,  4,  5,  6,  7,  8,  9, 10, 11, 12, 13, 14, 15, 16,\n",
       "       17, 18, 19, 20, 21, 22, 23, 24, 25, 26, 27, 28, 29])"
      ]
     },
     "execution_count": 16,
     "metadata": {},
     "output_type": "execute_result"
    }
   ],
   "source": [
    "array = np.arange(30) #Começa de 0 e o último é exclusivo \n",
    "array"
   ]
  },
  {
   "cell_type": "code",
   "execution_count": 17,
   "metadata": {},
   "outputs": [],
   "source": [
    "# Usando start/end - de 0 a 100 de 10 em 10\n",
    "array = np.arange(0, 100, 10)"
   ]
  },
  {
   "cell_type": "code",
   "execution_count": 18,
   "metadata": {},
   "outputs": [
    {
     "data": {
      "text/plain": [
       "array([ 0, 10, 20, 30, 40, 50, 60, 70, 80, 90])"
      ]
     },
     "execution_count": 18,
     "metadata": {},
     "output_type": "execute_result"
    }
   ],
   "source": [
    "array"
   ]
  },
  {
   "cell_type": "markdown",
   "metadata": {},
   "source": [
    "<h2>Criando estruturas de dados com linspace</h2>"
   ]
  },
  {
   "cell_type": "code",
   "execution_count": 19,
   "metadata": {},
   "outputs": [
    {
     "data": {
      "text/plain": [
       "array([ 0.        ,  0.52631579,  1.05263158,  1.57894737,  2.10526316,\n",
       "        2.63157895,  3.15789474,  3.68421053,  4.21052632,  4.73684211,\n",
       "        5.26315789,  5.78947368,  6.31578947,  6.84210526,  7.36842105,\n",
       "        7.89473684,  8.42105263,  8.94736842,  9.47368421, 10.        ])"
      ]
     },
     "execution_count": 19,
     "metadata": {},
     "output_type": "execute_result"
    }
   ],
   "source": [
    "# Fique atento: A diferença do linspace para o arange é que no arange o último argumento é o incremento,\n",
    "# e no linspace o último arqgumento é o número de elementos do vetor (aleatorio)\n",
    "matriz = np.linspace(0,10,20)\n",
    "matriz"
   ]
  },
  {
   "cell_type": "code",
   "execution_count": 20,
   "metadata": {},
   "outputs": [
    {
     "data": {
      "text/plain": [
       "array([ 0. ,  2.5,  5. ,  7.5, 10. ])"
      ]
     },
     "execution_count": 20,
     "metadata": {},
     "output_type": "execute_result"
    }
   ],
   "source": [
    "matriz = np.linspace(0,10,5)\n",
    "matriz"
   ]
  },
  {
   "cell_type": "code",
   "execution_count": 21,
   "metadata": {},
   "outputs": [
    {
     "data": {
      "text/plain": [
       "array([0.  , 1.25, 2.5 , 3.75, 5.  ])"
      ]
     },
     "execution_count": 21,
     "metadata": {},
     "output_type": "execute_result"
    }
   ],
   "source": [
    "matriz = np.linspace(0,5,5)\n",
    "matriz"
   ]
  },
  {
   "cell_type": "markdown",
   "metadata": {},
   "source": [
    "# Estruturas de Matrizes"
   ]
  },
  {
   "cell_type": "code",
   "execution_count": 22,
   "metadata": {},
   "outputs": [
    {
     "data": {
      "text/plain": [
       "array([[0., 0., 0., 0., 0., 0., 0., 0., 0., 0.],\n",
       "       [0., 0., 0., 0., 0., 0., 0., 0., 0., 0.],\n",
       "       [0., 0., 0., 0., 0., 0., 0., 0., 0., 0.],\n",
       "       [0., 0., 0., 0., 0., 0., 0., 0., 0., 0.],\n",
       "       [0., 0., 0., 0., 0., 0., 0., 0., 0., 0.],\n",
       "       [0., 0., 0., 0., 0., 0., 0., 0., 0., 0.],\n",
       "       [0., 0., 0., 0., 0., 0., 0., 0., 0., 0.],\n",
       "       [0., 0., 0., 0., 0., 0., 0., 0., 0., 0.],\n",
       "       [0., 0., 0., 0., 0., 0., 0., 0., 0., 0.],\n",
       "       [0., 0., 0., 0., 0., 0., 0., 0., 0., 0.]])"
      ]
     },
     "execution_count": 22,
     "metadata": {},
     "output_type": "execute_result"
    }
   ],
   "source": [
    "#numpy.zeros\n",
    "matriz = np.zeros((10, 10)) # 10 linhas, 10 colulas | # Predenche com (0) zeros. \n",
    "matriz"
   ]
  },
  {
   "cell_type": "code",
   "execution_count": 23,
   "metadata": {},
   "outputs": [
    {
     "data": {
      "text/plain": [
       "array([[1., 1., 1.],\n",
       "       [1., 1., 1.]])"
      ]
     },
     "execution_count": 23,
     "metadata": {},
     "output_type": "execute_result"
    }
   ],
   "source": [
    "#numpy.ones\n",
    "matriz = np.ones((2, 3)) # Predenche com (1) uns\n",
    "matriz"
   ]
  },
  {
   "cell_type": "code",
   "execution_count": 24,
   "metadata": {},
   "outputs": [
    {
     "data": {
      "text/plain": [
       "array([[1., 0., 0., 0., 0., 0., 0., 0., 0., 0.],\n",
       "       [0., 1., 0., 0., 0., 0., 0., 0., 0., 0.],\n",
       "       [0., 0., 1., 0., 0., 0., 0., 0., 0., 0.],\n",
       "       [0., 0., 0., 1., 0., 0., 0., 0., 0., 0.],\n",
       "       [0., 0., 0., 0., 1., 0., 0., 0., 0., 0.],\n",
       "       [0., 0., 0., 0., 0., 1., 0., 0., 0., 0.],\n",
       "       [0., 0., 0., 0., 0., 0., 1., 0., 0., 0.],\n",
       "       [0., 0., 0., 0., 0., 0., 0., 1., 0., 0.],\n",
       "       [0., 0., 0., 0., 0., 0., 0., 0., 1., 0.],\n",
       "       [0., 0., 0., 0., 0., 0., 0., 0., 0., 1.]])"
      ]
     },
     "execution_count": 24,
     "metadata": {},
     "output_type": "execute_result"
    }
   ],
   "source": [
    "# Numpy.eye - Produz uma matriz do tipo Identitiy\n",
    "matriz = np.eye(10) # Diagonal de (1)\n",
    "matriz"
   ]
  },
  {
   "cell_type": "code",
   "execution_count": 25,
   "metadata": {
    "scrolled": true
   },
   "outputs": [
    {
     "data": {
      "text/plain": [
       "array([[ 2,  0,  0,  0,  0,  0,  0,  0,  0,  0],\n",
       "       [ 0,  4,  0,  0,  0,  0,  0,  0,  0,  0],\n",
       "       [ 0,  0,  6,  0,  0,  0,  0,  0,  0,  0],\n",
       "       [ 0,  0,  0,  8,  0,  0,  0,  0,  0,  0],\n",
       "       [ 0,  0,  0,  0, 10,  0,  0,  0,  0,  0],\n",
       "       [ 0,  0,  0,  0,  0, 12,  0,  0,  0,  0],\n",
       "       [ 0,  0,  0,  0,  0,  0, 14,  0,  0,  0],\n",
       "       [ 0,  0,  0,  0,  0,  0,  0, 16,  0,  0],\n",
       "       [ 0,  0,  0,  0,  0,  0,  0,  0, 18,  0],\n",
       "       [ 0,  0,  0,  0,  0,  0,  0,  0,  0, 20]])"
      ]
     },
     "execution_count": 25,
     "metadata": {},
     "output_type": "execute_result"
    }
   ],
   "source": [
    "# numpy.diag produz o mesmo resultado, porem podemos definir os numeros das diagonais\n",
    "\n",
    "matriz = np.diag((2,4,6,8,10,12,14,16,18,20))\n",
    "matriz"
   ]
  },
  {
   "cell_type": "code",
   "execution_count": 46,
   "metadata": {},
   "outputs": [
    {
     "name": "stdout",
     "output_type": "stream",
     "text": [
      "[[1.24424222e-311 9.58487353e-322 0.00000000e+000]\n",
      " [0.00000000e+000 5.55603410e+180 5.02034658e+175]\n",
      " [9.51186062e+169 3.37859702e-057 1.05225943e-046]\n",
      " [2.93117483e-057 1.47763641e+248 1.16096346e-028]\n",
      " [7.69165785e+218 1.35617292e+248 7.83892484e-067]\n",
      " [1.29260943e+161 1.46069326e+185 5.99294154e-066]\n",
      " [4.25759014e-096 6.32299154e+233 6.48224638e+170]\n",
      " [5.22411352e+257 5.74020278e+180 8.37174974e-144]\n",
      " [1.41529402e+161 9.16651763e-072 4.74020289e+097]\n",
      " [1.74687542e-076 3.08264916e+126 2.43895101e-154]]\n"
     ]
    }
   ],
   "source": [
    "# numpy.empty produz uma matriz vazia\n",
    "# 10 linhas, 5 colulas\n",
    "\n",
    "matriz = np.empty([10, 3])\n",
    "print(matriz)"
   ]
  },
  {
   "cell_type": "markdown",
   "metadata": {},
   "source": [
    "<h3>numpy.tile</h3>"
   ]
  },
  {
   "cell_type": "code",
   "execution_count": 60,
   "metadata": {},
   "outputs": [
    {
     "data": {
      "text/plain": [
       "array([[1, 2, 1, 2, 1, 2],\n",
       "       [3, 4, 3, 4, 3, 4],\n",
       "       [5, 6, 5, 6, 5, 6]])"
      ]
     },
     "execution_count": 60,
     "metadata": {},
     "output_type": "execute_result"
    }
   ],
   "source": [
    "# Multiplicação de Arays \n",
    "# Repete o Arays nas linhas ou colunas\n",
    "\n",
    "np.tile(np.array([[1, 2], [3, 4], [5, 6]]), 3)"
   ]
  },
  {
   "cell_type": "code",
   "execution_count": 61,
   "metadata": {},
   "outputs": [
    {
     "data": {
      "text/plain": [
       "array([[1, 2, 1, 2, 1, 2, 1, 2, 1, 2, 1, 2],\n",
       "       [3, 4, 3, 4, 3, 4, 3, 4, 3, 4, 3, 4],\n",
       "       [5, 6, 5, 6, 5, 6, 5, 6, 5, 6, 5, 6],\n",
       "       [1, 2, 1, 2, 1, 2, 1, 2, 1, 2, 1, 2],\n",
       "       [3, 4, 3, 4, 3, 4, 3, 4, 3, 4, 3, 4],\n",
       "       [5, 6, 5, 6, 5, 6, 5, 6, 5, 6, 5, 6],\n",
       "       [1, 2, 1, 2, 1, 2, 1, 2, 1, 2, 1, 2],\n",
       "       [3, 4, 3, 4, 3, 4, 3, 4, 3, 4, 3, 4],\n",
       "       [5, 6, 5, 6, 5, 6, 5, 6, 5, 6, 5, 6]])"
      ]
     },
     "execution_count": 61,
     "metadata": {},
     "output_type": "execute_result"
    }
   ],
   "source": [
    "# Primeiro elemento é o numero de vezes do array na vertical.\n",
    "# Segundo elemento é o numero de vezes do array na horizontal.\n",
    "\n",
    "np.tile(np.array([[1, 2], [3, 4], [5, 6]]), (3,6)) "
   ]
  },
  {
   "cell_type": "code",
   "execution_count": null,
   "metadata": {},
   "outputs": [],
   "source": []
  }
 ],
 "metadata": {
  "anaconda-cloud": {},
  "kernelspec": {
   "display_name": "Python 3",
   "language": "python",
   "name": "python3"
  },
  "language_info": {
   "codemirror_mode": {
    "name": "ipython",
    "version": 3
   },
   "file_extension": ".py",
   "mimetype": "text/x-python",
   "name": "python",
   "nbconvert_exporter": "python",
   "pygments_lexer": "ipython3",
   "version": "3.7.0"
  }
 },
 "nbformat": 4,
 "nbformat_minor": 1
}
